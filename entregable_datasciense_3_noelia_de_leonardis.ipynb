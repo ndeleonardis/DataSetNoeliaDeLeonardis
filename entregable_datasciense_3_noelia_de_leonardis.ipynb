{
  "nbformat": 4,
  "nbformat_minor": 0,
  "metadata": {
    "colab": {
      "provenance": [],
      "authorship_tag": "ABX9TyOogo7uqkBMRqGjWlbwfAUu",
      "include_colab_link": true
    },
    "kernelspec": {
      "name": "python3",
      "display_name": "Python 3"
    },
    "language_info": {
      "name": "python"
    }
  },
  "cells": [
    {
      "cell_type": "markdown",
      "metadata": {
        "id": "view-in-github",
        "colab_type": "text"
      },
      "source": [
        "<a href=\"https://colab.research.google.com/github/ndeleonardis/DataSetNoeliaDeLeonardis/blob/main/entregable_datasciense_3_noelia_de_leonardis.ipynb\" target=\"_parent\"><img src=\"https://colab.research.google.com/assets/colab-badge.svg\" alt=\"Open In Colab\"/></a>"
      ]
    },
    {
      "cell_type": "code",
      "execution_count": null,
      "metadata": {
        "id": "xTeFDtPcHApj"
      },
      "outputs": [],
      "source": []
    },
    {
      "cell_type": "markdown",
      "source": [
        "# Introducción"
      ],
      "metadata": {
        "id": "VYlaE4t9TwtR"
      }
    },
    {
      "cell_type": "markdown",
      "source": [
        "\n",
        "Para este trabajo se usará un **dataset confidencial** vinculado a **Fondos Comunes de Inversión del banco de Córdoba**, llamados **Fondos Champaquí**.\n",
        "\n",
        "Antes que nada vamos a definir que es un **Fondo Común de Inversión**, fondo común de inversión es un vehículo financiero que agrupa el capital de múltiples inversores para invertir en una cartera diversificada de activos, como acciones, bonos o bienes raíces. La gestión de estas inversiones es realizada por profesionales especializados, y los rendimientos se distribuyen entre los inversores en función de su participación en el fondo.\n",
        "\n",
        "A modo general, se trabajo en la obtención de información, la misma esta parcializada ya que solo se tiene acceso a la base de fondos y no a otras integraciones.\n",
        "\n",
        "Para dar un pantallazo, para que un cliente pueda operar en Fondos Champaquí, debe abrir una cuenta de inversión, la misma queda registrada en otra base de datos a la cual no tenemos acceso, pero los datos del cliente se preplican de forma parcial.\n",
        "\n",
        "\n",
        "Cada cliente para poder operar como indicamos tiene que poseer una cuenta de inversión y realizar el perfil de inversor, que dice que adversión al riesgo puede tener la persona, conservadora, moderada, o agresiva. Basicamente es que nivel de riesgo esta dispuesta a tomar para obtener ganancias.\n",
        "\n",
        "El trabajo va estar dividido en 2 partes primordiales que serán la solicitudes de suscripción y rescate cursadas en el año 2023."
      ],
      "metadata": {
        "id": "ECHqCZdCU_sO"
      }
    },
    {
      "cell_type": "markdown",
      "source": [
        "# Hipótesis que trataremos de responder"
      ],
      "metadata": {
        "id": "vRyNLaD8cVMw"
      }
    },
    {
      "cell_type": "markdown",
      "source": [
        "**Patrones de Suscripción y Rescate según el Perfil de Riesgo**\n",
        "\n",
        "    **Hipótesis:** Los inversores con un perfil de riesgo más alto realizan más solicitudes de suscripción y rescates en comparación con los inversores con perfiles más conservadores.\n",
        "\n",
        "**Los hombres invierten más que las mujeres**\n",
        "\n",
        "    **Hipótesis:** Es verdad que los hombres invierten más que las mujeres?.\n",
        "\n",
        "**En que temporada se concentran más suscripciones y rescates?**\n",
        "\n",
        "    **Hipótesis:** Hay patrones estacionales en las solicitudes de suscripción y rescates, como un aumento durante ciertos meses del año.\n"
      ],
      "metadata": {
        "id": "vNrZJ7BdckNW"
      }
    },
    {
      "cell_type": "code",
      "source": [
        "#Importación de Librerias\n",
        "import pandas as pd\n",
        "import numpy as np"
      ],
      "metadata": {
        "id": "mgd2fXVkeBDh"
      },
      "execution_count": 2,
      "outputs": []
    },
    {
      "cell_type": "code",
      "source": [
        "\n",
        "# Cargamaos el archivo usamos URL cruda del archivo CSV que esta en nuestro GitHub\n",
        "url = 'https://raw.githubusercontent.com/ndeleonardis/DataSetNoeliaDeLeonardis/main/dataset_suscripciones_2023.csv'\n",
        "\n",
        "\n",
        "# Cargar el archivo CSV en un DataFrame de Pandas\n",
        "try:\n",
        "    df = pd.read_csv(url)\n",
        "    print(\"El archivo CSV se ha cargado exitosamente.\")\n",
        "except Exception as e:\n",
        "    print(\"Se produjo un error al cargar el archivo CSV:\", e)"
      ],
      "metadata": {
        "id": "OHulkI_MC3ia",
        "outputId": "b0ed69f8-acfa-4197-e28b-9a90042b7597",
        "colab": {
          "base_uri": "https://localhost:8080/"
        }
      },
      "execution_count": 3,
      "outputs": [
        {
          "output_type": "stream",
          "name": "stdout",
          "text": [
            "El archivo CSV se ha cargado exitosamente.\n"
          ]
        }
      ]
    },
    {
      "cell_type": "code",
      "source": [
        "df.head ()"
      ],
      "metadata": {
        "id": "GAMPgJJlYnlw"
      },
      "execution_count": null,
      "outputs": []
    },
    {
      "cell_type": "markdown",
      "source": [
        "### Data Wrangling y Data Wrangling y Exploratory Data Analyst"
      ],
      "metadata": {
        "id": "rEmGGQrk3Q1R"
      }
    },
    {
      "cell_type": "code",
      "source": [
        "#Exploramos el dataframe con el comando info que nos da información del tipo de datos y nro de entradas y valores nulos.\n",
        "df.info()"
      ],
      "metadata": {
        "id": "p8WeI0czVbWY",
        "outputId": "6cd7c58b-add1-4b6d-e9bb-3135699461d0",
        "colab": {
          "base_uri": "https://localhost:8080/"
        }
      },
      "execution_count": 4,
      "outputs": [
        {
          "output_type": "stream",
          "name": "stdout",
          "text": [
            "<class 'pandas.core.frame.DataFrame'>\n",
            "RangeIndex: 224518 entries, 0 to 224517\n",
            "Data columns (total 43 columns):\n",
            " #   Column                Non-Null Count   Dtype  \n",
            "---  ------                --------------   -----  \n",
            " 0   CodFondo              224518 non-null  int64  \n",
            " 1   Nombre                224518 non-null  object \n",
            " 2   CodAgColocador        224518 non-null  int64  \n",
            " 3   CodSucursal           224518 non-null  int64  \n",
            " 4   CodSolSusc            224518 non-null  int64  \n",
            " 5   CodTpValorCp          224518 non-null  int64  \n",
            " 6   CodCanalVta           1404 non-null    float64\n",
            " 7   CodOficialCta         224518 non-null  int64  \n",
            " 8   CodCondicionIngEgr    224518 non-null  int64  \n",
            " 9   CodMoneda             224518 non-null  int64  \n",
            " 10  CodCuotapartista      224518 non-null  int64  \n",
            " 11  NumSolicitud          224518 non-null  int64  \n",
            " 12  Importe               224518 non-null  float64\n",
            " 13  FechaConcertacion     224518 non-null  object \n",
            " 14  FechaAcreditacion     224518 non-null  object \n",
            " 15  Observaciones         222413 non-null  object \n",
            " 16  FactorConversion      224518 non-null  float64\n",
            " 17  EstaAnulado           224518 non-null  int64  \n",
            " 18  CodAuditoriaRef       224518 non-null  int64  \n",
            " 19  EsAntesDeHorario      224518 non-null  int64  \n",
            " 20  EsArt5Bis             224518 non-null  int64  \n",
            " 21  Hora                  224518 non-null  object \n",
            " 22  CodUsuarioIngreso     224518 non-null  int64  \n",
            " 23  CodTpOrigenSol        224518 non-null  object \n",
            " 24  CodTpEstadoSol        224518 non-null  object \n",
            " 25  ImporteImpTransf      0 non-null       float64\n",
            " 26  Nombre.1              224518 non-null  object \n",
            " 27  NumCuotapartista      224518 non-null  int64  \n",
            " 28  FechaIngreso          212035 non-null  object \n",
            " 29  EsPersonaFisica       224518 non-null  int64  \n",
            " 30  Perfil                0 non-null       float64\n",
            " 31  PerfilRiesgoFechaVto  0 non-null       float64\n",
            " 32  CodTpPerfilRiesgoCpt  222159 non-null  object \n",
            " 33  CodPais               224518 non-null  int64  \n",
            " 34  CodProvincia          212012 non-null  float64\n",
            " 35  Localidad             224518 non-null  object \n",
            " 36  AlturaCalle           224491 non-null  object \n",
            " 37  Piso                  38045 non-null   object \n",
            " 38  Departamento          21335 non-null   object \n",
            " 39  CodigoPostal          224518 non-null  int64  \n",
            " 40  EMail                 224375 non-null  object \n",
            " 41  CodTpInversor         224444 non-null  float64\n",
            " 42  Descripcion           224444 non-null  object \n",
            "dtypes: float64(8), int64(19), object(16)\n",
            "memory usage: 73.7+ MB\n"
          ]
        }
      ]
    },
    {
      "cell_type": "code",
      "source": [
        "# Contamos el número de valores nullosCounts the number of null values\n",
        "na_values = df.isna().sum()\n",
        "\n",
        "# Prints 0, significa que no hay valores nullos.\n",
        "print(na_values)"
      ],
      "metadata": {
        "id": "7MhPwnTD5rNk",
        "outputId": "8d8740e1-d347-466a-b92b-24ac451c212d",
        "colab": {
          "base_uri": "https://localhost:8080/"
        }
      },
      "execution_count": 13,
      "outputs": [
        {
          "output_type": "stream",
          "name": "stdout",
          "text": [
            "CodFondo                     0\n",
            "Nombre                       0\n",
            "CodAgColocador               0\n",
            "CodSucursal                  0\n",
            "CodSolSusc                   0\n",
            "CodTpValorCp                 0\n",
            "CodCanalVta             223114\n",
            "CodOficialCta                0\n",
            "CodCondicionIngEgr           0\n",
            "CodMoneda                    0\n",
            "CodCuotapartista             0\n",
            "NumSolicitud                 0\n",
            "Importe                      0\n",
            "FechaConcertacion            0\n",
            "FechaAcreditacion            0\n",
            "Observaciones             2105\n",
            "FactorConversion             0\n",
            "EstaAnulado                  0\n",
            "CodAuditoriaRef              0\n",
            "EsAntesDeHorario             0\n",
            "EsArt5Bis                    0\n",
            "Hora                         0\n",
            "CodUsuarioIngreso            0\n",
            "CodTpOrigenSol               0\n",
            "CodTpEstadoSol               0\n",
            "ImporteImpTransf        224518\n",
            "Nombre.1                     0\n",
            "NumCuotapartista             0\n",
            "FechaIngreso             12483\n",
            "EsPersonaFisica              0\n",
            "Perfil                  224518\n",
            "PerfilRiesgoFechaVto    224518\n",
            "CodTpPerfilRiesgoCpt      2359\n",
            "CodPais                      0\n",
            "CodProvincia             12506\n",
            "Localidad                    0\n",
            "AlturaCalle                 27\n",
            "Piso                    186473\n",
            "Departamento            203183\n",
            "CodigoPostal                 0\n",
            "EMail                      143\n",
            "CodTpInversor               74\n",
            "Descripcion                 74\n",
            "dtype: int64\n"
          ]
        }
      ]
    },
    {
      "cell_type": "markdown",
      "source": [
        "Luego de ejecutar este comando vemos que:\n",
        "**Tenemos un total de 224.518 registros con 43 columnas** (RangeIndex: 224518 entries, 0 to 224517)\n",
        "Con la salida de este comando vemos las siguientes observaciones:\n",
        "\n",
        "* **Campos Fechas (FechaConcertacion / FechaAcreditacion / FechaIngreso)** no tienen el formato fecha\n",
        "* **CodCanalVta** solo tiene 1404 valores No nulls\n",
        "* **Observaciones** que nos sera de utilidad tiene  222.413 non-null es decir que nos faltan 2.105 con datos, ya vamos a filtrar por esas columnas a fin de determinar que realizaremos.\n",
        "También vemos que las fechas no estan en formato de fecha.\n",
        "* Datos con valores todos nullos (Perfil/PerfilRiesgoFechaVto  )\n",
        "\n",
        "Hice un análisis de este campo y para no ensuciar la notebook no pongo el print\n",
        "df_filtered = df[df['CodCanalVta'].notna()] basicamente traia valores 1 y 2 que se debe haber comenzado a usar y luego se depreco.\n",
        "\n",
        "Llegue a la conclusión que los campos: \"PerfilRiesgoFechaVto /  CodCanalVta /  ImporteImpTransf\" además de tener muchos nulos o todos nullos no se utilizarán para nuestro análisis. por lo cual en el siguiente paso vamos a eliminarnos del dataframe.\n"
      ],
      "metadata": {
        "id": "XAOyki5C6EIJ"
      }
    },
    {
      "cell_type": "code",
      "source": [
        "#df.drop('PerfilRiesgoFechaVto', axis=1, inplace=True)\n",
        "#df.drop('CodCanalVta', axis=1, inplace=True)\n",
        "#df.drop(' ImporteImpTransf', axis=1, inplace=True)\n",
        "\n",
        "#me dio error al tratar de elminarlos por lo que los dejo"
      ],
      "metadata": {
        "id": "lwgolMZRDcbS"
      },
      "execution_count": null,
      "outputs": []
    },
    {
      "cell_type": "code",
      "source": [
        "df['FechaConcertacion'] = pd.to_datetime(df['FechaConcertacion'])\n",
        "df['FechaAcreditacion'] = pd.to_datetime(df['FechaAcreditacion'])\n",
        "df['FechaIngreso'] = pd.to_datetime(df['FechaIngreso'])\n",
        "\n",
        "#print(df.dtypes)  # Verificar el tipo de dato de la columna\n"
      ],
      "metadata": {
        "id": "lFDqklEX7SmG"
      },
      "execution_count": null,
      "outputs": []
    },
    {
      "cell_type": "markdown",
      "source": [
        "#### Enriquecimiento de Data Frame con Columna Sexo"
      ],
      "metadata": {
        "id": "D_c-0STg2wNR"
      }
    },
    {
      "cell_type": "markdown",
      "source": [
        "Analizamos el campo observaciones, que es de interes porque es una forma que el sistema mapeo con que CUIT o CUIL se realizó la transacción.\n",
        " Vemos que el mismo tiene un formato \"Nro|AR1B-AR1A\" donde AR1B signnifica CUIL y esta en general asociado a personas físicas, mientras que AR1A \"27324839386|AR1B\"\n",
        " Tenemos un campo \"EsPersonaFisica\" que nos indica si las persona es física (-1) o jurídica  (0)\n",
        " Como los clientes son mayores a 18 años, hasta esa fecha (año 2021) los CUIL se asignaban por afip 20 para masculino y 27 para femenino.\n",
        "Entonces trataremos de asignar sexo por ahi."
      ],
      "metadata": {
        "id": "wagAOEAl23pY"
      }
    },
    {
      "cell_type": "code",
      "source": [],
      "metadata": {
        "id": "VTry-xvRcaTa"
      },
      "execution_count": null,
      "outputs": []
    },
    {
      "cell_type": "code",
      "source": [
        "# 1. Filtrar los registros donde 'EsPersonaFisica' es 1\n",
        "df_personas_fisicas = df[df['EsPersonaFisica'] == -1]\n",
        "print(f\"Cantidad de registros de personas físicas: {df_personas_fisicas.shape[0]}\")\n",
        "print()\n",
        "\n",
        "# 2. Crear una nueva columna 'Sexo' e inicializarla con NaN\n",
        "df['Sexo'] = np.NaN\n",
        "print(\"Se ha creado la columna 'Sexo' y se ha inicializado con valor -100 (no asignado).\")\n",
        "print()\n",
        "\n",
        "# 3. Asignar valores a la columna 'Sexo' basados en el campo 'Observaciones'\n",
        "# Solo modificar la columna 'Sexo' en los registros filtrados\n",
        "df.loc[df['EsPersonaFisica'] == -1, 'Sexo'] = df['Observaciones'].apply(\n",
        "    lambda x: 1 if str(x).startswith('20') else (0 if str(x).startswith('27') else -100)\n",
        ")\n",
        "print(f\"Se han asignado valores a la columna 'Sexo' basada en el campo 'Observaciones'.\")\n",
        "print()\n",
        "\n",
        "# 4. Verificar y contar los valores en la columna 'Sexo'\n",
        "sexo_counts = df['Sexo'].value_counts(dropna=False)\n",
        "print(\"Cantidad de valores en la columna 'Sexo':\")\n",
        "print(sexo_counts)\n",
        "print()\n",
        "\n",
        "# 5. Verificar la actualización del DataFrame\n",
        "print(\"Información del DataFrame después de la actualización:\")\n",
        "print(df.info())\n",
        "print()\n"
      ],
      "metadata": {
        "id": "EupuRvgiiOek",
        "outputId": "5f24c08a-2400-41cc-87b4-c25f5e612507",
        "colab": {
          "base_uri": "https://localhost:8080/"
        }
      },
      "execution_count": 12,
      "outputs": [
        {
          "output_type": "stream",
          "name": "stdout",
          "text": [
            "Cantidad de registros de personas físicas: 171938\n",
            "\n",
            "Se ha creado la columna 'Sexo' y se ha inicializado con valor -100 (no asignado).\n",
            "\n",
            "Se han asignado valores a la columna 'Sexo' basada en el campo 'Observaciones'.\n",
            "\n",
            "Cantidad de valores en la columna 'Sexo':\n",
            "Sexo\n",
            " 1.0      78163\n",
            " 0.0      75962\n",
            " NaN      52580\n",
            "-100.0    17813\n",
            "Name: count, dtype: int64\n",
            "\n",
            "Información del DataFrame después de la actualización:\n",
            "<class 'pandas.core.frame.DataFrame'>\n",
            "RangeIndex: 224518 entries, 0 to 224517\n",
            "Data columns (total 44 columns):\n",
            " #   Column                Non-Null Count   Dtype         \n",
            "---  ------                --------------   -----         \n",
            " 0   CodFondo              224518 non-null  int64         \n",
            " 1   Nombre                224518 non-null  object        \n",
            " 2   CodAgColocador        224518 non-null  int64         \n",
            " 3   CodSucursal           224518 non-null  int64         \n",
            " 4   CodSolSusc            224518 non-null  int64         \n",
            " 5   CodTpValorCp          224518 non-null  int64         \n",
            " 6   CodCanalVta           1404 non-null    float64       \n",
            " 7   CodOficialCta         224518 non-null  int64         \n",
            " 8   CodCondicionIngEgr    224518 non-null  int64         \n",
            " 9   CodMoneda             224518 non-null  int64         \n",
            " 10  CodCuotapartista      224518 non-null  int64         \n",
            " 11  NumSolicitud          224518 non-null  int64         \n",
            " 12  Importe               224518 non-null  float64       \n",
            " 13  FechaConcertacion     224518 non-null  datetime64[ns]\n",
            " 14  FechaAcreditacion     224518 non-null  datetime64[ns]\n",
            " 15  Observaciones         222413 non-null  object        \n",
            " 16  FactorConversion      224518 non-null  float64       \n",
            " 17  EstaAnulado           224518 non-null  int64         \n",
            " 18  CodAuditoriaRef       224518 non-null  int64         \n",
            " 19  EsAntesDeHorario      224518 non-null  int64         \n",
            " 20  EsArt5Bis             224518 non-null  int64         \n",
            " 21  Hora                  224518 non-null  object        \n",
            " 22  CodUsuarioIngreso     224518 non-null  int64         \n",
            " 23  CodTpOrigenSol        224518 non-null  object        \n",
            " 24  CodTpEstadoSol        224518 non-null  object        \n",
            " 25  ImporteImpTransf      0 non-null       float64       \n",
            " 26  Nombre.1              224518 non-null  object        \n",
            " 27  NumCuotapartista      224518 non-null  int64         \n",
            " 28  FechaIngreso          212035 non-null  datetime64[ns]\n",
            " 29  EsPersonaFisica       224518 non-null  int64         \n",
            " 30  Perfil                0 non-null       float64       \n",
            " 31  PerfilRiesgoFechaVto  0 non-null       float64       \n",
            " 32  CodTpPerfilRiesgoCpt  222159 non-null  object        \n",
            " 33  CodPais               224518 non-null  int64         \n",
            " 34  CodProvincia          212012 non-null  float64       \n",
            " 35  Localidad             224518 non-null  object        \n",
            " 36  AlturaCalle           224491 non-null  object        \n",
            " 37  Piso                  38045 non-null   object        \n",
            " 38  Departamento          21335 non-null   object        \n",
            " 39  CodigoPostal          224518 non-null  int64         \n",
            " 40  EMail                 224375 non-null  object        \n",
            " 41  CodTpInversor         224444 non-null  float64       \n",
            " 42  Descripcion           224444 non-null  object        \n",
            " 43  Sexo                  171938 non-null  float64       \n",
            "dtypes: datetime64[ns](3), float64(9), int64(19), object(13)\n",
            "memory usage: 75.4+ MB\n",
            "None\n",
            "\n"
          ]
        }
      ]
    },
    {
      "cell_type": "code",
      "source": [
        "df.info ()"
      ],
      "metadata": {
        "id": "iGfJ3FCjy77M",
        "outputId": "7a257684-1770-468d-c70e-8871fdf5cc57",
        "colab": {
          "base_uri": "https://localhost:8080/"
        }
      },
      "execution_count": 8,
      "outputs": [
        {
          "output_type": "stream",
          "name": "stdout",
          "text": [
            "<class 'pandas.core.frame.DataFrame'>\n",
            "RangeIndex: 224518 entries, 0 to 224517\n",
            "Data columns (total 42 columns):\n",
            " #   Column                Non-Null Count   Dtype  \n",
            "---  ------                --------------   -----  \n",
            " 0   CodFondo              224518 non-null  int64  \n",
            " 1   Nombre                224518 non-null  object \n",
            " 2   CodAgColocador        224518 non-null  int64  \n",
            " 3   CodSucursal           224518 non-null  int64  \n",
            " 4   CodSolSusc            224518 non-null  int64  \n",
            " 5   CodTpValorCp          224518 non-null  int64  \n",
            " 6   CodOficialCta         224518 non-null  int64  \n",
            " 7   CodCondicionIngEgr    224518 non-null  int64  \n",
            " 8   CodMoneda             224518 non-null  int64  \n",
            " 9   CodCuotapartista      224518 non-null  int64  \n",
            " 10  NumSolicitud          224518 non-null  int64  \n",
            " 11  Importe               224518 non-null  float64\n",
            " 12  FechaConcertacion     224518 non-null  object \n",
            " 13  FechaAcreditacion     224518 non-null  object \n",
            " 14  Observaciones         222413 non-null  object \n",
            " 15  FactorConversion      224518 non-null  float64\n",
            " 16  EstaAnulado           224518 non-null  int64  \n",
            " 17  CodAuditoriaRef       224518 non-null  int64  \n",
            " 18  EsAntesDeHorario      224518 non-null  int64  \n",
            " 19  EsArt5Bis             224518 non-null  int64  \n",
            " 20  Hora                  224518 non-null  object \n",
            " 21  CodUsuarioIngreso     224518 non-null  int64  \n",
            " 22  CodTpOrigenSol        224518 non-null  object \n",
            " 23  CodTpEstadoSol        224518 non-null  object \n",
            " 24  ImporteImpTransf      0 non-null       float64\n",
            " 25  Nombre.1              224518 non-null  object \n",
            " 26  NumCuotapartista      224518 non-null  int64  \n",
            " 27  FechaIngreso          212035 non-null  object \n",
            " 28  EsPersonaFisica       224518 non-null  int64  \n",
            " 29  Perfil                0 non-null       float64\n",
            " 30  CodTpPerfilRiesgoCpt  222159 non-null  object \n",
            " 31  CodPais               224518 non-null  int64  \n",
            " 32  CodProvincia          212012 non-null  float64\n",
            " 33  Localidad             224518 non-null  object \n",
            " 34  AlturaCalle           224491 non-null  object \n",
            " 35  Piso                  38045 non-null   object \n",
            " 36  Departamento          21335 non-null   object \n",
            " 37  CodigoPostal          224518 non-null  int64  \n",
            " 38  EMail                 224375 non-null  object \n",
            " 39  CodTpInversor         224444 non-null  float64\n",
            " 40  Descripcion           224444 non-null  object \n",
            " 41  Sexo                  171938 non-null  float64\n",
            "dtypes: float64(7), int64(19), object(16)\n",
            "memory usage: 71.9+ MB\n"
          ]
        }
      ]
    },
    {
      "cell_type": "code",
      "source": [
        "# Utilizamos el comando describe () para ver valores estadisticos como la media, valor mínimo, valor máximo pero solo de las columnas de interes. Al comando le aplique un formato de estilo ya que\n",
        "#lo mostraba en notacion exponencial/cientifica y me dificultaba leerlo.\n",
        "#descripcion = df.describe().style.format(\"{:.2f}\")\n",
        "#display(descripcion)\n",
        "\n",
        "columns_of_interest = ['Importe', 'FechaConcertacion', 'FechaAcreditacion', 'Hora', 'Descripcion', 'EsPersonaFisica']\n",
        "df_subset = df[columns_of_interest]\n",
        "\n",
        "# Aplicar describe() solo a las columnas seleccionadas\n",
        "df_describe = df_subset.describe(include='all')\n",
        "\n",
        "# Función personalizada para formatear como moneda\n",
        "def currency_format(x):\n",
        "    if pd.isna(x):\n",
        "        return ''\n",
        "    return \"${:,.2f}\".format(x)\n",
        "\n",
        "# Aplicar formato personalizado solo a la columna 'Importe'\n",
        "descripcion = df_subset.describe(include='all').style.format({\n",
        "    'Importe': currency_format,\n",
        "    # Aplica formato general a las columnas numéricas (opcional)\n",
        "    #**{col: \"{:.2f}\" for col in df_subset.select_dtypes(include=['float', 'int']).columns if col != 'Importe'}\n",
        "})\n",
        "\n",
        "# Mostrar la descripción formateada\n",
        "display(descripcion)"
      ],
      "metadata": {
        "id": "e3lyaeDJ4EE-",
        "outputId": "e75cf3a3-c61b-41d2-b51e-dc50e54ec0a9",
        "colab": {
          "base_uri": "https://localhost:8080/",
          "height": 394
        }
      },
      "execution_count": 13,
      "outputs": [
        {
          "output_type": "display_data",
          "data": {
            "text/plain": [
              "<pandas.io.formats.style.Styler at 0x7ad3d8b2b6a0>"
            ],
            "text/html": [
              "<style type=\"text/css\">\n",
              "</style>\n",
              "<table id=\"T_fc20e\" class=\"dataframe\">\n",
              "  <thead>\n",
              "    <tr>\n",
              "      <th class=\"blank level0\" >&nbsp;</th>\n",
              "      <th id=\"T_fc20e_level0_col0\" class=\"col_heading level0 col0\" >Importe</th>\n",
              "      <th id=\"T_fc20e_level0_col1\" class=\"col_heading level0 col1\" >FechaConcertacion</th>\n",
              "      <th id=\"T_fc20e_level0_col2\" class=\"col_heading level0 col2\" >FechaAcreditacion</th>\n",
              "      <th id=\"T_fc20e_level0_col3\" class=\"col_heading level0 col3\" >Hora</th>\n",
              "      <th id=\"T_fc20e_level0_col4\" class=\"col_heading level0 col4\" >Descripcion</th>\n",
              "      <th id=\"T_fc20e_level0_col5\" class=\"col_heading level0 col5\" >EsPersonaFisica</th>\n",
              "    </tr>\n",
              "  </thead>\n",
              "  <tbody>\n",
              "    <tr>\n",
              "      <th id=\"T_fc20e_level0_row0\" class=\"row_heading level0 row0\" >count</th>\n",
              "      <td id=\"T_fc20e_row0_col0\" class=\"data row0 col0\" >$224,518.00</td>\n",
              "      <td id=\"T_fc20e_row0_col1\" class=\"data row0 col1\" >224518</td>\n",
              "      <td id=\"T_fc20e_row0_col2\" class=\"data row0 col2\" >224518</td>\n",
              "      <td id=\"T_fc20e_row0_col3\" class=\"data row0 col3\" >224518</td>\n",
              "      <td id=\"T_fc20e_row0_col4\" class=\"data row0 col4\" >224444</td>\n",
              "      <td id=\"T_fc20e_row0_col5\" class=\"data row0 col5\" >224518.000000</td>\n",
              "    </tr>\n",
              "    <tr>\n",
              "      <th id=\"T_fc20e_level0_row1\" class=\"row_heading level0 row1\" >unique</th>\n",
              "      <td id=\"T_fc20e_row1_col0\" class=\"data row1 col0\" ></td>\n",
              "      <td id=\"T_fc20e_row1_col1\" class=\"data row1 col1\" >nan</td>\n",
              "      <td id=\"T_fc20e_row1_col2\" class=\"data row1 col2\" >nan</td>\n",
              "      <td id=\"T_fc20e_row1_col3\" class=\"data row1 col3\" >92095</td>\n",
              "      <td id=\"T_fc20e_row1_col4\" class=\"data row1 col4\" >9</td>\n",
              "      <td id=\"T_fc20e_row1_col5\" class=\"data row1 col5\" >nan</td>\n",
              "    </tr>\n",
              "    <tr>\n",
              "      <th id=\"T_fc20e_level0_row2\" class=\"row_heading level0 row2\" >top</th>\n",
              "      <td id=\"T_fc20e_row2_col0\" class=\"data row2 col0\" ></td>\n",
              "      <td id=\"T_fc20e_row2_col1\" class=\"data row2 col1\" >nan</td>\n",
              "      <td id=\"T_fc20e_row2_col2\" class=\"data row2 col2\" >nan</td>\n",
              "      <td id=\"T_fc20e_row2_col3\" class=\"data row2 col3\" >2023-12-22 15:55:00</td>\n",
              "      <td id=\"T_fc20e_row2_col4\" class=\"data row2 col4\" >Personas Humanas Argentina Mayores de Edad</td>\n",
              "      <td id=\"T_fc20e_row2_col5\" class=\"data row2 col5\" >nan</td>\n",
              "    </tr>\n",
              "    <tr>\n",
              "      <th id=\"T_fc20e_level0_row3\" class=\"row_heading level0 row3\" >freq</th>\n",
              "      <td id=\"T_fc20e_row3_col0\" class=\"data row3 col0\" ></td>\n",
              "      <td id=\"T_fc20e_row3_col1\" class=\"data row3 col1\" >nan</td>\n",
              "      <td id=\"T_fc20e_row3_col2\" class=\"data row3 col2\" >nan</td>\n",
              "      <td id=\"T_fc20e_row3_col3\" class=\"data row3 col3\" >16</td>\n",
              "      <td id=\"T_fc20e_row3_col4\" class=\"data row3 col4\" >171864</td>\n",
              "      <td id=\"T_fc20e_row3_col5\" class=\"data row3 col5\" >nan</td>\n",
              "    </tr>\n",
              "    <tr>\n",
              "      <th id=\"T_fc20e_level0_row4\" class=\"row_heading level0 row4\" >mean</th>\n",
              "      <td id=\"T_fc20e_row4_col0\" class=\"data row4 col0\" >$5,412,084.77</td>\n",
              "      <td id=\"T_fc20e_row4_col1\" class=\"data row4 col1\" >2023-08-05 03:17:47.214210048</td>\n",
              "      <td id=\"T_fc20e_row4_col2\" class=\"data row4 col2\" >2023-08-05 03:17:47.214210048</td>\n",
              "      <td id=\"T_fc20e_row4_col3\" class=\"data row4 col3\" >nan</td>\n",
              "      <td id=\"T_fc20e_row4_col4\" class=\"data row4 col4\" >nan</td>\n",
              "      <td id=\"T_fc20e_row4_col5\" class=\"data row4 col5\" >-0.765809</td>\n",
              "    </tr>\n",
              "    <tr>\n",
              "      <th id=\"T_fc20e_level0_row5\" class=\"row_heading level0 row5\" >min</th>\n",
              "      <td id=\"T_fc20e_row5_col0\" class=\"data row5 col0\" >$0.00</td>\n",
              "      <td id=\"T_fc20e_row5_col1\" class=\"data row5 col1\" >2023-01-02 00:00:00</td>\n",
              "      <td id=\"T_fc20e_row5_col2\" class=\"data row5 col2\" >2023-01-02 00:00:00</td>\n",
              "      <td id=\"T_fc20e_row5_col3\" class=\"data row5 col3\" >nan</td>\n",
              "      <td id=\"T_fc20e_row5_col4\" class=\"data row5 col4\" >nan</td>\n",
              "      <td id=\"T_fc20e_row5_col5\" class=\"data row5 col5\" >-1.000000</td>\n",
              "    </tr>\n",
              "    <tr>\n",
              "      <th id=\"T_fc20e_level0_row6\" class=\"row_heading level0 row6\" >25%</th>\n",
              "      <td id=\"T_fc20e_row6_col0\" class=\"data row6 col0\" >$50,000.00</td>\n",
              "      <td id=\"T_fc20e_row6_col1\" class=\"data row6 col1\" >2023-05-23 00:00:00</td>\n",
              "      <td id=\"T_fc20e_row6_col2\" class=\"data row6 col2\" >2023-05-23 00:00:00</td>\n",
              "      <td id=\"T_fc20e_row6_col3\" class=\"data row6 col3\" >nan</td>\n",
              "      <td id=\"T_fc20e_row6_col4\" class=\"data row6 col4\" >nan</td>\n",
              "      <td id=\"T_fc20e_row6_col5\" class=\"data row6 col5\" >-1.000000</td>\n",
              "    </tr>\n",
              "    <tr>\n",
              "      <th id=\"T_fc20e_level0_row7\" class=\"row_heading level0 row7\" >50%</th>\n",
              "      <td id=\"T_fc20e_row7_col0\" class=\"data row7 col0\" >$200,000.00</td>\n",
              "      <td id=\"T_fc20e_row7_col1\" class=\"data row7 col1\" >2023-08-18 00:00:00</td>\n",
              "      <td id=\"T_fc20e_row7_col2\" class=\"data row7 col2\" >2023-08-18 00:00:00</td>\n",
              "      <td id=\"T_fc20e_row7_col3\" class=\"data row7 col3\" >nan</td>\n",
              "      <td id=\"T_fc20e_row7_col4\" class=\"data row7 col4\" >nan</td>\n",
              "      <td id=\"T_fc20e_row7_col5\" class=\"data row7 col5\" >-1.000000</td>\n",
              "    </tr>\n",
              "    <tr>\n",
              "      <th id=\"T_fc20e_level0_row8\" class=\"row_heading level0 row8\" >75%</th>\n",
              "      <td id=\"T_fc20e_row8_col0\" class=\"data row8 col0\" >$960,000.00</td>\n",
              "      <td id=\"T_fc20e_row8_col1\" class=\"data row8 col1\" >2023-10-30 00:00:00</td>\n",
              "      <td id=\"T_fc20e_row8_col2\" class=\"data row8 col2\" >2023-10-30 00:00:00</td>\n",
              "      <td id=\"T_fc20e_row8_col3\" class=\"data row8 col3\" >nan</td>\n",
              "      <td id=\"T_fc20e_row8_col4\" class=\"data row8 col4\" >nan</td>\n",
              "      <td id=\"T_fc20e_row8_col5\" class=\"data row8 col5\" >-1.000000</td>\n",
              "    </tr>\n",
              "    <tr>\n",
              "      <th id=\"T_fc20e_level0_row9\" class=\"row_heading level0 row9\" >max</th>\n",
              "      <td id=\"T_fc20e_row9_col0\" class=\"data row9 col0\" >$50,000,000,000.00</td>\n",
              "      <td id=\"T_fc20e_row9_col1\" class=\"data row9 col1\" >2023-12-29 00:00:00</td>\n",
              "      <td id=\"T_fc20e_row9_col2\" class=\"data row9 col2\" >2023-12-29 00:00:00</td>\n",
              "      <td id=\"T_fc20e_row9_col3\" class=\"data row9 col3\" >nan</td>\n",
              "      <td id=\"T_fc20e_row9_col4\" class=\"data row9 col4\" >nan</td>\n",
              "      <td id=\"T_fc20e_row9_col5\" class=\"data row9 col5\" >0.000000</td>\n",
              "    </tr>\n",
              "    <tr>\n",
              "      <th id=\"T_fc20e_level0_row10\" class=\"row_heading level0 row10\" >std</th>\n",
              "      <td id=\"T_fc20e_row10_col0\" class=\"data row10 col0\" >$159,337,852.09</td>\n",
              "      <td id=\"T_fc20e_row10_col1\" class=\"data row10 col1\" >nan</td>\n",
              "      <td id=\"T_fc20e_row10_col2\" class=\"data row10 col2\" >nan</td>\n",
              "      <td id=\"T_fc20e_row10_col3\" class=\"data row10 col3\" >nan</td>\n",
              "      <td id=\"T_fc20e_row10_col4\" class=\"data row10 col4\" >nan</td>\n",
              "      <td id=\"T_fc20e_row10_col5\" class=\"data row10 col5\" >0.423493</td>\n",
              "    </tr>\n",
              "  </tbody>\n",
              "</table>\n"
            ]
          },
          "metadata": {}
        }
      ]
    },
    {
      "cell_type": "code",
      "source": [],
      "metadata": {
        "id": "sYxu29FjdF2p"
      },
      "execution_count": null,
      "outputs": []
    }
  ]
}