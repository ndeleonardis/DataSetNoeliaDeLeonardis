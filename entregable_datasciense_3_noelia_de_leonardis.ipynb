{
  "nbformat": 4,
  "nbformat_minor": 0,
  "metadata": {
    "colab": {
      "provenance": [],
      "authorship_tag": "ABX9TyOWZmYBAg5dowGgqEl8Rth4",
      "include_colab_link": true
    },
    "kernelspec": {
      "name": "python3",
      "display_name": "Python 3"
    },
    "language_info": {
      "name": "python"
    }
  },
  "cells": [
    {
      "cell_type": "markdown",
      "metadata": {
        "id": "view-in-github",
        "colab_type": "text"
      },
      "source": [
        "<a href=\"https://colab.research.google.com/github/ndeleonardis/DataSetNoeliaDeLeonardis/blob/main/entregable_datasciense_3_noelia_de_leonardis.ipynb\" target=\"_parent\"><img src=\"https://colab.research.google.com/assets/colab-badge.svg\" alt=\"Open In Colab\"/></a>"
      ]
    },
    {
      "cell_type": "code",
      "execution_count": null,
      "metadata": {
        "id": "xTeFDtPcHApj"
      },
      "outputs": [],
      "source": []
    },
    {
      "cell_type": "markdown",
      "source": [
        "# Introducción"
      ],
      "metadata": {
        "id": "VYlaE4t9TwtR"
      }
    },
    {
      "cell_type": "markdown",
      "source": [
        "\n",
        "Para este trabajo se usa un **dataset productivo** al cual s**e le aplicó anonimización de datos** (los 8 digitos consecutivos al cuil y cuit se generaron aleatoriamente). Este DataSet contiene información de operaciones de rescate de **Fondos Comunes de Inversión de un Banco de Argentina**.\n",
        "\n",
        "El trabajo va estar dividido en 2 partes primordiales que serán la solicitudes de suscripción y rescate cursadas en el **año 2023.**\n",
        "\n",
        "Antes que nada vamos a definir que es un **Fondo Común de Inversión**, fondo común de inversión es un vehículo financiero que agrupa el capital de múltiples inversores para invertir en una cartera diversificada de activos, como acciones, bonos o bienes raíces. La gestión de estas inversiones es realizada por profesionales especializados, y los rendimientos se distribuyen entre los inversores en función de su participación en el fondo.\n",
        "\n",
        "A modo general, se trabajo en la obtención de información, la misma esta parcializada ya que solo se tiene acceso a la base de fondos y no a otras integraciones.\n",
        "\n",
        "Para dar un pantallazo, para que un cliente pueda operar en Fondos Champaquí, debe abrir una cuenta de inversión, la misma queda registrada en otra base de datos a la cual no tenemos acceso, pero los datos del cliente se preplican de forma parcial.\n",
        "\n",
        "\n",
        "Cada cliente para poder operar como indicamos tiene que poseer una cuenta de inversión y realizar el perfil de inversor, que dice que adversión al riesgo puede tener la persona, conservadora, moderada, o agresiva. Basicamente es que nivel de riesgo esta dispuesta a tomar para obtener ganancias.\n"
      ],
      "metadata": {
        "id": "ECHqCZdCU_sO"
      }
    },
    {
      "cell_type": "markdown",
      "source": [
        "# Hipótesis que trataremos de responder"
      ],
      "metadata": {
        "id": "vRyNLaD8cVMw"
      }
    },
    {
      "cell_type": "markdown",
      "source": [
        "**Patrones de Suscripción y Rescate según el Perfil de Riesgo**\n",
        "\n",
        "    **Hipótesis:** Los inversores con un perfil de riesgo más alto realizan más solicitudes de suscripción y rescates en comparación con los inversores con perfiles más conservadores.\n",
        "\n",
        "**Los hombres invierten más que las mujeres**\n",
        "\n",
        "    **Hipótesis:** Es verdad que los hombres invierten más que las mujeres?.\n",
        "\n",
        "**En que temporada se concentran más suscripciones y rescates?**\n",
        "\n",
        "    **Hipótesis:** Hay patrones estacionales en las solicitudes de suscripción y rescates, como un aumento durante ciertos meses del año.\n"
      ],
      "metadata": {
        "id": "vNrZJ7BdckNW"
      }
    },
    {
      "cell_type": "code",
      "source": [
        "#Importación de Librerias\n",
        "import pandas as pd\n",
        "import numpy as np\n",
        "import matplotlib.pyplot as plt\n",
        "import seaborn as sns"
      ],
      "metadata": {
        "id": "mgd2fXVkeBDh"
      },
      "execution_count": null,
      "outputs": []
    },
    {
      "cell_type": "code",
      "source": [
        "\n",
        "# Cargamaos el archivo usamos URL cruda del archivo CSV que esta en nuestro GitHub\n",
        "url = 'https://raw.githubusercontent.com/ndeleonardis/DataSetNoeliaDeLeonardis/main/dataset_suscripciones_2023.csv'\n",
        "\n",
        "\n",
        "# Cargar el archivo CSV en un DataFrame de Pandas\n",
        "try:\n",
        "    df = pd.read_csv(url)\n",
        "    print(\"El archivo CSV se ha cargado exitosamente.\")\n",
        "except Exception as e:\n",
        "    print(\"Se produjo un error al cargar el archivo CSV:\", e)"
      ],
      "metadata": {
        "id": "OHulkI_MC3ia",
        "outputId": "c07821b5-307c-482e-f7e8-e964bce29726",
        "colab": {
          "base_uri": "https://localhost:8080/"
        }
      },
      "execution_count": null,
      "outputs": [
        {
          "output_type": "stream",
          "name": "stderr",
          "text": [
            "<ipython-input-3-6f358b6705e5>:7: DtypeWarning: Columns (15) have mixed types. Specify dtype option on import or set low_memory=False.\n",
            "  df = pd.read_csv(url)\n"
          ]
        },
        {
          "output_type": "stream",
          "name": "stdout",
          "text": [
            "El archivo CSV se ha cargado exitosamente.\n"
          ]
        }
      ]
    },
    {
      "cell_type": "code",
      "source": [
        "df.head ()"
      ],
      "metadata": {
        "id": "GAMPgJJlYnlw",
        "colab": {
          "base_uri": "https://localhost:8080/",
          "height": 551
        },
        "outputId": "673500ea-06c1-4e52-d54a-8bc7fc0ec3fa"
      },
      "execution_count": null,
      "outputs": [
        {
          "output_type": "execute_result",
          "data": {
            "text/plain": [
              "   CodFondo    NombreFondo  CodAgColocador  CodSucursal  CodSolSusc  \\\n",
              "0         1   Ahorro Pesos               1            1      119207   \n",
              "1         1   Ahorro Pesos               1            1      119386   \n",
              "2         1   Ahorro Pesos               1            1      119532   \n",
              "3         1   Ahorro Pesos               1            1      124841   \n",
              "4         1   Ahorro Pesos               1            1      127297   \n",
              "\n",
              "   CodTpValorCp  CodCanalVta  CodOficialCta  CodCondicionIngEgr  CodMoneda  \\\n",
              "0             1          NaN              1                   1          1   \n",
              "1             1          NaN              1                   1          1   \n",
              "2             4          NaN              1                  10          1   \n",
              "3             1          NaN              1                   1          1   \n",
              "4             1          NaN              1                   1          1   \n",
              "\n",
              "   ...  CodTpPerfilRiesgoCpt  CodPais  CodProvincia Localidad AlturaCalle  \\\n",
              "0  ...                   CON        1           1.0      CABA        1997   \n",
              "1  ...                   CON        1           NaN      CABA        1551   \n",
              "2  ...                   AGR        1           1.0      CABA         341   \n",
              "3  ...                   MOD        1           1.0      CABA        4026   \n",
              "4  ...                   CON        1           1.0      CABA        1997   \n",
              "\n",
              "  Piso  Departamento  CodigoPostal  CodTpInversor  \\\n",
              "0    3            12          1000            1.0   \n",
              "1    6           601          1000            1.0   \n",
              "2    5             A          1000            2.0   \n",
              "3  NaN           NaN          1000            1.0   \n",
              "4    3            12          1000            1.0   \n",
              "\n",
              "                                  Descripcion  \n",
              "0  Personas Humanas Argentina Mayores de Edad  \n",
              "1  Personas Humanas Argentina Mayores de Edad  \n",
              "2                     Inversores Corporativos  \n",
              "3  Personas Humanas Argentina Mayores de Edad  \n",
              "4  Personas Humanas Argentina Mayores de Edad  \n",
              "\n",
              "[5 rows x 41 columns]"
            ],
            "text/html": [
              "\n",
              "  <div id=\"df-0925e362-b1dd-4e68-af84-e69e9840c8aa\" class=\"colab-df-container\">\n",
              "    <div>\n",
              "<style scoped>\n",
              "    .dataframe tbody tr th:only-of-type {\n",
              "        vertical-align: middle;\n",
              "    }\n",
              "\n",
              "    .dataframe tbody tr th {\n",
              "        vertical-align: top;\n",
              "    }\n",
              "\n",
              "    .dataframe thead th {\n",
              "        text-align: right;\n",
              "    }\n",
              "</style>\n",
              "<table border=\"1\" class=\"dataframe\">\n",
              "  <thead>\n",
              "    <tr style=\"text-align: right;\">\n",
              "      <th></th>\n",
              "      <th>CodFondo</th>\n",
              "      <th>NombreFondo</th>\n",
              "      <th>CodAgColocador</th>\n",
              "      <th>CodSucursal</th>\n",
              "      <th>CodSolSusc</th>\n",
              "      <th>CodTpValorCp</th>\n",
              "      <th>CodCanalVta</th>\n",
              "      <th>CodOficialCta</th>\n",
              "      <th>CodCondicionIngEgr</th>\n",
              "      <th>CodMoneda</th>\n",
              "      <th>...</th>\n",
              "      <th>CodTpPerfilRiesgoCpt</th>\n",
              "      <th>CodPais</th>\n",
              "      <th>CodProvincia</th>\n",
              "      <th>Localidad</th>\n",
              "      <th>AlturaCalle</th>\n",
              "      <th>Piso</th>\n",
              "      <th>Departamento</th>\n",
              "      <th>CodigoPostal</th>\n",
              "      <th>CodTpInversor</th>\n",
              "      <th>Descripcion</th>\n",
              "    </tr>\n",
              "  </thead>\n",
              "  <tbody>\n",
              "    <tr>\n",
              "      <th>0</th>\n",
              "      <td>1</td>\n",
              "      <td>Ahorro Pesos</td>\n",
              "      <td>1</td>\n",
              "      <td>1</td>\n",
              "      <td>119207</td>\n",
              "      <td>1</td>\n",
              "      <td>NaN</td>\n",
              "      <td>1</td>\n",
              "      <td>1</td>\n",
              "      <td>1</td>\n",
              "      <td>...</td>\n",
              "      <td>CON</td>\n",
              "      <td>1</td>\n",
              "      <td>1.0</td>\n",
              "      <td>CABA</td>\n",
              "      <td>1997</td>\n",
              "      <td>3</td>\n",
              "      <td>12</td>\n",
              "      <td>1000</td>\n",
              "      <td>1.0</td>\n",
              "      <td>Personas Humanas Argentina Mayores de Edad</td>\n",
              "    </tr>\n",
              "    <tr>\n",
              "      <th>1</th>\n",
              "      <td>1</td>\n",
              "      <td>Ahorro Pesos</td>\n",
              "      <td>1</td>\n",
              "      <td>1</td>\n",
              "      <td>119386</td>\n",
              "      <td>1</td>\n",
              "      <td>NaN</td>\n",
              "      <td>1</td>\n",
              "      <td>1</td>\n",
              "      <td>1</td>\n",
              "      <td>...</td>\n",
              "      <td>CON</td>\n",
              "      <td>1</td>\n",
              "      <td>NaN</td>\n",
              "      <td>CABA</td>\n",
              "      <td>1551</td>\n",
              "      <td>6</td>\n",
              "      <td>601</td>\n",
              "      <td>1000</td>\n",
              "      <td>1.0</td>\n",
              "      <td>Personas Humanas Argentina Mayores de Edad</td>\n",
              "    </tr>\n",
              "    <tr>\n",
              "      <th>2</th>\n",
              "      <td>1</td>\n",
              "      <td>Ahorro Pesos</td>\n",
              "      <td>1</td>\n",
              "      <td>1</td>\n",
              "      <td>119532</td>\n",
              "      <td>4</td>\n",
              "      <td>NaN</td>\n",
              "      <td>1</td>\n",
              "      <td>10</td>\n",
              "      <td>1</td>\n",
              "      <td>...</td>\n",
              "      <td>AGR</td>\n",
              "      <td>1</td>\n",
              "      <td>1.0</td>\n",
              "      <td>CABA</td>\n",
              "      <td>341</td>\n",
              "      <td>5</td>\n",
              "      <td>A</td>\n",
              "      <td>1000</td>\n",
              "      <td>2.0</td>\n",
              "      <td>Inversores Corporativos</td>\n",
              "    </tr>\n",
              "    <tr>\n",
              "      <th>3</th>\n",
              "      <td>1</td>\n",
              "      <td>Ahorro Pesos</td>\n",
              "      <td>1</td>\n",
              "      <td>1</td>\n",
              "      <td>124841</td>\n",
              "      <td>1</td>\n",
              "      <td>NaN</td>\n",
              "      <td>1</td>\n",
              "      <td>1</td>\n",
              "      <td>1</td>\n",
              "      <td>...</td>\n",
              "      <td>MOD</td>\n",
              "      <td>1</td>\n",
              "      <td>1.0</td>\n",
              "      <td>CABA</td>\n",
              "      <td>4026</td>\n",
              "      <td>NaN</td>\n",
              "      <td>NaN</td>\n",
              "      <td>1000</td>\n",
              "      <td>1.0</td>\n",
              "      <td>Personas Humanas Argentina Mayores de Edad</td>\n",
              "    </tr>\n",
              "    <tr>\n",
              "      <th>4</th>\n",
              "      <td>1</td>\n",
              "      <td>Ahorro Pesos</td>\n",
              "      <td>1</td>\n",
              "      <td>1</td>\n",
              "      <td>127297</td>\n",
              "      <td>1</td>\n",
              "      <td>NaN</td>\n",
              "      <td>1</td>\n",
              "      <td>1</td>\n",
              "      <td>1</td>\n",
              "      <td>...</td>\n",
              "      <td>CON</td>\n",
              "      <td>1</td>\n",
              "      <td>1.0</td>\n",
              "      <td>CABA</td>\n",
              "      <td>1997</td>\n",
              "      <td>3</td>\n",
              "      <td>12</td>\n",
              "      <td>1000</td>\n",
              "      <td>1.0</td>\n",
              "      <td>Personas Humanas Argentina Mayores de Edad</td>\n",
              "    </tr>\n",
              "  </tbody>\n",
              "</table>\n",
              "<p>5 rows × 41 columns</p>\n",
              "</div>\n",
              "    <div class=\"colab-df-buttons\">\n",
              "\n",
              "  <div class=\"colab-df-container\">\n",
              "    <button class=\"colab-df-convert\" onclick=\"convertToInteractive('df-0925e362-b1dd-4e68-af84-e69e9840c8aa')\"\n",
              "            title=\"Convert this dataframe to an interactive table.\"\n",
              "            style=\"display:none;\">\n",
              "\n",
              "  <svg xmlns=\"http://www.w3.org/2000/svg\" height=\"24px\" viewBox=\"0 -960 960 960\">\n",
              "    <path d=\"M120-120v-720h720v720H120Zm60-500h600v-160H180v160Zm220 220h160v-160H400v160Zm0 220h160v-160H400v160ZM180-400h160v-160H180v160Zm440 0h160v-160H620v160ZM180-180h160v-160H180v160Zm440 0h160v-160H620v160Z\"/>\n",
              "  </svg>\n",
              "    </button>\n",
              "\n",
              "  <style>\n",
              "    .colab-df-container {\n",
              "      display:flex;\n",
              "      gap: 12px;\n",
              "    }\n",
              "\n",
              "    .colab-df-convert {\n",
              "      background-color: #E8F0FE;\n",
              "      border: none;\n",
              "      border-radius: 50%;\n",
              "      cursor: pointer;\n",
              "      display: none;\n",
              "      fill: #1967D2;\n",
              "      height: 32px;\n",
              "      padding: 0 0 0 0;\n",
              "      width: 32px;\n",
              "    }\n",
              "\n",
              "    .colab-df-convert:hover {\n",
              "      background-color: #E2EBFA;\n",
              "      box-shadow: 0px 1px 2px rgba(60, 64, 67, 0.3), 0px 1px 3px 1px rgba(60, 64, 67, 0.15);\n",
              "      fill: #174EA6;\n",
              "    }\n",
              "\n",
              "    .colab-df-buttons div {\n",
              "      margin-bottom: 4px;\n",
              "    }\n",
              "\n",
              "    [theme=dark] .colab-df-convert {\n",
              "      background-color: #3B4455;\n",
              "      fill: #D2E3FC;\n",
              "    }\n",
              "\n",
              "    [theme=dark] .colab-df-convert:hover {\n",
              "      background-color: #434B5C;\n",
              "      box-shadow: 0px 1px 3px 1px rgba(0, 0, 0, 0.15);\n",
              "      filter: drop-shadow(0px 1px 2px rgba(0, 0, 0, 0.3));\n",
              "      fill: #FFFFFF;\n",
              "    }\n",
              "  </style>\n",
              "\n",
              "    <script>\n",
              "      const buttonEl =\n",
              "        document.querySelector('#df-0925e362-b1dd-4e68-af84-e69e9840c8aa button.colab-df-convert');\n",
              "      buttonEl.style.display =\n",
              "        google.colab.kernel.accessAllowed ? 'block' : 'none';\n",
              "\n",
              "      async function convertToInteractive(key) {\n",
              "        const element = document.querySelector('#df-0925e362-b1dd-4e68-af84-e69e9840c8aa');\n",
              "        const dataTable =\n",
              "          await google.colab.kernel.invokeFunction('convertToInteractive',\n",
              "                                                    [key], {});\n",
              "        if (!dataTable) return;\n",
              "\n",
              "        const docLinkHtml = 'Like what you see? Visit the ' +\n",
              "          '<a target=\"_blank\" href=https://colab.research.google.com/notebooks/data_table.ipynb>data table notebook</a>'\n",
              "          + ' to learn more about interactive tables.';\n",
              "        element.innerHTML = '';\n",
              "        dataTable['output_type'] = 'display_data';\n",
              "        await google.colab.output.renderOutput(dataTable, element);\n",
              "        const docLink = document.createElement('div');\n",
              "        docLink.innerHTML = docLinkHtml;\n",
              "        element.appendChild(docLink);\n",
              "      }\n",
              "    </script>\n",
              "  </div>\n",
              "\n",
              "\n",
              "<div id=\"df-3b59530a-4807-47c8-865d-bfdec8e84057\">\n",
              "  <button class=\"colab-df-quickchart\" onclick=\"quickchart('df-3b59530a-4807-47c8-865d-bfdec8e84057')\"\n",
              "            title=\"Suggest charts\"\n",
              "            style=\"display:none;\">\n",
              "\n",
              "<svg xmlns=\"http://www.w3.org/2000/svg\" height=\"24px\"viewBox=\"0 0 24 24\"\n",
              "     width=\"24px\">\n",
              "    <g>\n",
              "        <path d=\"M19 3H5c-1.1 0-2 .9-2 2v14c0 1.1.9 2 2 2h14c1.1 0 2-.9 2-2V5c0-1.1-.9-2-2-2zM9 17H7v-7h2v7zm4 0h-2V7h2v10zm4 0h-2v-4h2v4z\"/>\n",
              "    </g>\n",
              "</svg>\n",
              "  </button>\n",
              "\n",
              "<style>\n",
              "  .colab-df-quickchart {\n",
              "      --bg-color: #E8F0FE;\n",
              "      --fill-color: #1967D2;\n",
              "      --hover-bg-color: #E2EBFA;\n",
              "      --hover-fill-color: #174EA6;\n",
              "      --disabled-fill-color: #AAA;\n",
              "      --disabled-bg-color: #DDD;\n",
              "  }\n",
              "\n",
              "  [theme=dark] .colab-df-quickchart {\n",
              "      --bg-color: #3B4455;\n",
              "      --fill-color: #D2E3FC;\n",
              "      --hover-bg-color: #434B5C;\n",
              "      --hover-fill-color: #FFFFFF;\n",
              "      --disabled-bg-color: #3B4455;\n",
              "      --disabled-fill-color: #666;\n",
              "  }\n",
              "\n",
              "  .colab-df-quickchart {\n",
              "    background-color: var(--bg-color);\n",
              "    border: none;\n",
              "    border-radius: 50%;\n",
              "    cursor: pointer;\n",
              "    display: none;\n",
              "    fill: var(--fill-color);\n",
              "    height: 32px;\n",
              "    padding: 0;\n",
              "    width: 32px;\n",
              "  }\n",
              "\n",
              "  .colab-df-quickchart:hover {\n",
              "    background-color: var(--hover-bg-color);\n",
              "    box-shadow: 0 1px 2px rgba(60, 64, 67, 0.3), 0 1px 3px 1px rgba(60, 64, 67, 0.15);\n",
              "    fill: var(--button-hover-fill-color);\n",
              "  }\n",
              "\n",
              "  .colab-df-quickchart-complete:disabled,\n",
              "  .colab-df-quickchart-complete:disabled:hover {\n",
              "    background-color: var(--disabled-bg-color);\n",
              "    fill: var(--disabled-fill-color);\n",
              "    box-shadow: none;\n",
              "  }\n",
              "\n",
              "  .colab-df-spinner {\n",
              "    border: 2px solid var(--fill-color);\n",
              "    border-color: transparent;\n",
              "    border-bottom-color: var(--fill-color);\n",
              "    animation:\n",
              "      spin 1s steps(1) infinite;\n",
              "  }\n",
              "\n",
              "  @keyframes spin {\n",
              "    0% {\n",
              "      border-color: transparent;\n",
              "      border-bottom-color: var(--fill-color);\n",
              "      border-left-color: var(--fill-color);\n",
              "    }\n",
              "    20% {\n",
              "      border-color: transparent;\n",
              "      border-left-color: var(--fill-color);\n",
              "      border-top-color: var(--fill-color);\n",
              "    }\n",
              "    30% {\n",
              "      border-color: transparent;\n",
              "      border-left-color: var(--fill-color);\n",
              "      border-top-color: var(--fill-color);\n",
              "      border-right-color: var(--fill-color);\n",
              "    }\n",
              "    40% {\n",
              "      border-color: transparent;\n",
              "      border-right-color: var(--fill-color);\n",
              "      border-top-color: var(--fill-color);\n",
              "    }\n",
              "    60% {\n",
              "      border-color: transparent;\n",
              "      border-right-color: var(--fill-color);\n",
              "    }\n",
              "    80% {\n",
              "      border-color: transparent;\n",
              "      border-right-color: var(--fill-color);\n",
              "      border-bottom-color: var(--fill-color);\n",
              "    }\n",
              "    90% {\n",
              "      border-color: transparent;\n",
              "      border-bottom-color: var(--fill-color);\n",
              "    }\n",
              "  }\n",
              "</style>\n",
              "\n",
              "  <script>\n",
              "    async function quickchart(key) {\n",
              "      const quickchartButtonEl =\n",
              "        document.querySelector('#' + key + ' button');\n",
              "      quickchartButtonEl.disabled = true;  // To prevent multiple clicks.\n",
              "      quickchartButtonEl.classList.add('colab-df-spinner');\n",
              "      try {\n",
              "        const charts = await google.colab.kernel.invokeFunction(\n",
              "            'suggestCharts', [key], {});\n",
              "      } catch (error) {\n",
              "        console.error('Error during call to suggestCharts:', error);\n",
              "      }\n",
              "      quickchartButtonEl.classList.remove('colab-df-spinner');\n",
              "      quickchartButtonEl.classList.add('colab-df-quickchart-complete');\n",
              "    }\n",
              "    (() => {\n",
              "      let quickchartButtonEl =\n",
              "        document.querySelector('#df-3b59530a-4807-47c8-865d-bfdec8e84057 button');\n",
              "      quickchartButtonEl.style.display =\n",
              "        google.colab.kernel.accessAllowed ? 'block' : 'none';\n",
              "    })();\n",
              "  </script>\n",
              "</div>\n",
              "\n",
              "    </div>\n",
              "  </div>\n"
            ],
            "application/vnd.google.colaboratory.intrinsic+json": {
              "type": "dataframe"
            }
          },
          "metadata": {},
          "execution_count": 4
        }
      ]
    },
    {
      "cell_type": "markdown",
      "source": [
        "### Data Wrangling y Data Wrangling y Exploratory Data Analyst"
      ],
      "metadata": {
        "id": "rEmGGQrk3Q1R"
      }
    },
    {
      "cell_type": "code",
      "source": [
        "#Exploramos el dataframe con el comando info que nos da información del tipo de datos y nro de entradas y valores nulos.\n",
        "df.info()"
      ],
      "metadata": {
        "id": "p8WeI0czVbWY",
        "outputId": "db5c2429-7a09-4f61-da9d-8a17e3dafa3d",
        "colab": {
          "base_uri": "https://localhost:8080/"
        }
      },
      "execution_count": null,
      "outputs": [
        {
          "output_type": "stream",
          "name": "stdout",
          "text": [
            "<class 'pandas.core.frame.DataFrame'>\n",
            "RangeIndex: 224518 entries, 0 to 224517\n",
            "Data columns (total 41 columns):\n",
            " #   Column                Non-Null Count   Dtype  \n",
            "---  ------                --------------   -----  \n",
            " 0   CodFondo              224518 non-null  int64  \n",
            " 1   NombreFondo           224518 non-null  object \n",
            " 2   CodAgColocador        224518 non-null  int64  \n",
            " 3   CodSucursal           224518 non-null  int64  \n",
            " 4   CodSolSusc            224518 non-null  int64  \n",
            " 5   CodTpValorCp          224518 non-null  int64  \n",
            " 6   CodCanalVta           1404 non-null    float64\n",
            " 7   CodOficialCta         224518 non-null  int64  \n",
            " 8   CodCondicionIngEgr    224518 non-null  int64  \n",
            " 9   CodMoneda             224518 non-null  int64  \n",
            " 10  CodCuotapartista      224518 non-null  int64  \n",
            " 11  NumSolicitud          224518 non-null  int64  \n",
            " 12  Importe               224518 non-null  float64\n",
            " 13  FechaConcertacion     224518 non-null  object \n",
            " 14  FechaAcreditacion     224518 non-null  object \n",
            " 15  Observaciones         2 non-null       object \n",
            " 16  FactorConversion      224518 non-null  float64\n",
            " 17  EstaAnulado           224518 non-null  int64  \n",
            " 18  CodAuditoriaRef       224518 non-null  int64  \n",
            " 19  EsAntesDeHorario      224518 non-null  int64  \n",
            " 20  EsArt5Bis             224518 non-null  int64  \n",
            " 21  Hora                  224518 non-null  object \n",
            " 22  CodUsuarioIngreso     224518 non-null  int64  \n",
            " 23  CodTpOrigenSol        224518 non-null  object \n",
            " 24  CodTpEstadoSol        224518 non-null  object \n",
            " 25  ImporteImpTransf      0 non-null       float64\n",
            " 26  NumCuotapartista      224518 non-null  int64  \n",
            " 27  FechaIngreso          212035 non-null  object \n",
            " 28  EsPersonaFisica       224518 non-null  int64  \n",
            " 29  Perfil                0 non-null       float64\n",
            " 30  PerfilRiesgoFechaVto  0 non-null       float64\n",
            " 31  CodTpPerfilRiesgoCpt  222159 non-null  object \n",
            " 32  CodPais               224518 non-null  int64  \n",
            " 33  CodProvincia          212012 non-null  float64\n",
            " 34  Localidad             224518 non-null  object \n",
            " 35  AlturaCalle           224491 non-null  object \n",
            " 36  Piso                  38045 non-null   object \n",
            " 37  Departamento          21335 non-null   object \n",
            " 38  CodigoPostal          224518 non-null  int64  \n",
            " 39  CodTpInversor         224444 non-null  float64\n",
            " 40  Descripcion           224444 non-null  object \n",
            "dtypes: float64(8), int64(19), object(14)\n",
            "memory usage: 70.2+ MB\n"
          ]
        }
      ]
    },
    {
      "cell_type": "code",
      "source": [
        "# Contamos el número de valores nullosCounts the number of null values\n",
        "na_values = df.isna().sum()\n",
        "\n",
        "# Prints 0, significa que no hay valores nullos.\n",
        "print(na_values)"
      ],
      "metadata": {
        "id": "7MhPwnTD5rNk",
        "outputId": "8a5e81c6-6bf3-410b-ea04-e39679d0d35d",
        "colab": {
          "base_uri": "https://localhost:8080/"
        }
      },
      "execution_count": null,
      "outputs": [
        {
          "output_type": "stream",
          "name": "stdout",
          "text": [
            "CodFondo                     0\n",
            "NombreFondo                  0\n",
            "CodAgColocador               0\n",
            "CodSucursal                  0\n",
            "CodSolSusc                   0\n",
            "CodTpValorCp                 0\n",
            "CodCanalVta             223114\n",
            "CodOficialCta                0\n",
            "CodCondicionIngEgr           0\n",
            "CodMoneda                    0\n",
            "CodCuotapartista             0\n",
            "NumSolicitud                 0\n",
            "Importe                      0\n",
            "FechaConcertacion            0\n",
            "FechaAcreditacion            0\n",
            "Observaciones           224516\n",
            "FactorConversion             0\n",
            "EstaAnulado                  0\n",
            "CodAuditoriaRef              0\n",
            "EsAntesDeHorario             0\n",
            "EsArt5Bis                    0\n",
            "Hora                         0\n",
            "CodUsuarioIngreso            0\n",
            "CodTpOrigenSol               0\n",
            "CodTpEstadoSol               0\n",
            "ImporteImpTransf        224518\n",
            "NumCuotapartista             0\n",
            "FechaIngreso             12483\n",
            "EsPersonaFisica              0\n",
            "Perfil                  224518\n",
            "PerfilRiesgoFechaVto    224518\n",
            "CodTpPerfilRiesgoCpt      2359\n",
            "CodPais                      0\n",
            "CodProvincia             12506\n",
            "Localidad                    0\n",
            "AlturaCalle                 27\n",
            "Piso                    186473\n",
            "Departamento            203183\n",
            "CodigoPostal                 0\n",
            "CodTpInversor               74\n",
            "Descripcion                 74\n",
            "dtype: int64\n"
          ]
        }
      ]
    },
    {
      "cell_type": "markdown",
      "source": [
        "Luego de ejecutar este comando vemos que:\n",
        "**Tenemos un total de 224.518 registros con 41 columnas** (RangeIndex: 224518 entries, 0 to 224517)\n",
        "Con la salida de este comando vemos las siguientes observaciones:\n",
        "\n",
        "* **Campos Fechas (FechaConcertacion / FechaAcreditacion / FechaIngreso)** no tienen el formato fecha\n",
        "* **CodCanalVta** solo tiene 1404 valores No nulls\n",
        "* **Observaciones** que nos sera de utilidad tiene  222.413 non-null es decir que nos faltan 2.105 con datos, ya vamos a filtrar por esas columnas a fin de determinar que realizaremos.\n",
        "También vemos que las fechas no estan en formato de fecha.\n",
        "* Datos con valores todos nullos (Perfil/PerfilRiesgoFechaVto  )\n",
        "\n",
        "Hice un análisis de este campo y para no ensuciar la notebook no pongo el print\n",
        "df_filtered = df[df['CodCanalVta'].notna()] basicamente traia valores 1 y 2 que se debe haber comenzado a usar y luego se depreco.\n",
        "\n",
        "Llegue a la conclusión que los campos: \"PerfilRiesgoFechaVto /  CodCanalVta /  ImporteImpTransf\" además de tener muchos nulos o todos nullos no se utilizarán para nuestro análisis. por lo cual en el siguiente paso vamos a eliminarnos del dataframe.\n"
      ],
      "metadata": {
        "id": "XAOyki5C6EIJ"
      }
    },
    {
      "cell_type": "code",
      "source": [
        "#df.drop('PerfilRiesgoFechaVto', axis=1, inplace=True)\n",
        "#df.drop('CodCanalVta', axis=1, inplace=True)\n",
        "#df.drop(' ImporteImpTransf', axis=1, inplace=True)\n",
        "\n",
        "#me dio error al tratar de elminarlos por lo que los dejo"
      ],
      "metadata": {
        "id": "lwgolMZRDcbS"
      },
      "execution_count": null,
      "outputs": []
    },
    {
      "cell_type": "code",
      "source": [
        "df['FechaConcertacion'] = pd.to_datetime(df['FechaConcertacion'])\n",
        "df['FechaAcreditacion'] = pd.to_datetime(df['FechaAcreditacion'])\n",
        "df['FechaIngreso'] = pd.to_datetime(df['FechaIngreso'])\n",
        "\n",
        "print(df.dtypes)  # Verificar el tipo de dato de la columna\n"
      ],
      "metadata": {
        "id": "lFDqklEX7SmG",
        "colab": {
          "base_uri": "https://localhost:8080/"
        },
        "outputId": "00af3cc0-4e09-44ce-abc3-48517ec731fa"
      },
      "execution_count": null,
      "outputs": [
        {
          "output_type": "stream",
          "name": "stdout",
          "text": [
            "CodFondo                         int64\n",
            "NombreFondo                     object\n",
            "CodAgColocador                   int64\n",
            "CodSucursal                      int64\n",
            "CodSolSusc                       int64\n",
            "CodTpValorCp                     int64\n",
            "CodCanalVta                    float64\n",
            "CodOficialCta                    int64\n",
            "CodCondicionIngEgr               int64\n",
            "CodMoneda                        int64\n",
            "CodCuotapartista                 int64\n",
            "NumSolicitud                     int64\n",
            "Importe                        float64\n",
            "FechaConcertacion       datetime64[ns]\n",
            "FechaAcreditacion       datetime64[ns]\n",
            "Observaciones                   object\n",
            "FactorConversion               float64\n",
            "EstaAnulado                      int64\n",
            "CodAuditoriaRef                  int64\n",
            "EsAntesDeHorario                 int64\n",
            "EsArt5Bis                        int64\n",
            "Hora                            object\n",
            "CodUsuarioIngreso                int64\n",
            "CodTpOrigenSol                  object\n",
            "CodTpEstadoSol                  object\n",
            "ImporteImpTransf               float64\n",
            "NumCuotapartista                 int64\n",
            "FechaIngreso            datetime64[ns]\n",
            "EsPersonaFisica                  int64\n",
            "Perfil                         float64\n",
            "PerfilRiesgoFechaVto           float64\n",
            "CodTpPerfilRiesgoCpt            object\n",
            "CodPais                          int64\n",
            "CodProvincia                   float64\n",
            "Localidad                       object\n",
            "AlturaCalle                     object\n",
            "Piso                            object\n",
            "Departamento                    object\n",
            "CodigoPostal                     int64\n",
            "CodTpInversor                  float64\n",
            "Descripcion                     object\n",
            "dtype: object\n"
          ]
        }
      ]
    },
    {
      "cell_type": "markdown",
      "source": [
        "#### Enriquecimiento de Data Frame con Columna Sexo"
      ],
      "metadata": {
        "id": "D_c-0STg2wNR"
      }
    },
    {
      "cell_type": "markdown",
      "source": [
        "Analizamos el campo observaciones, que es de interes porque es una forma que el sistema mapeo con que CUIT o CUIL se realizó la transacción.\n",
        " Vemos que el mismo tiene un formato \"Nro|AR1B-AR1A\" donde AR1B signnifica CUIL y esta en general asociado a personas físicas, mientras que AR1A \"27324839386|AR1B\"\n",
        " Tenemos un campo \"EsPersonaFisica\" que nos indica si las persona es física (-1) o jurídica  (0)\n",
        " Como los clientes son mayores a 18 años, hasta esa fecha (año 2021) los CUIL se asignaban por afip 20 para masculino y 27 para femenino.\n",
        "Entonces trataremos de asignar sexo por ahi."
      ],
      "metadata": {
        "id": "wagAOEAl23pY"
      }
    },
    {
      "cell_type": "code",
      "source": [],
      "metadata": {
        "id": "VTry-xvRcaTa"
      },
      "execution_count": null,
      "outputs": []
    },
    {
      "cell_type": "code",
      "source": [
        "# 1. Filtrar los registros donde 'EsPersonaFisica' es 1\n",
        "df_personas_fisicas = df[df['EsPersonaFisica'] == -1]\n",
        "print(f\"Cantidad de registros de personas físicas: {df_personas_fisicas.shape[0]}\")\n",
        "print()\n",
        "\n",
        "# 2. Crear una nueva columna 'Sexo' e inicializarla con NaN\n",
        "df['Sexo'] = np.NaN\n",
        "print(\"Se ha creado la columna 'Sexo' y se ha inicializado con valor -100 (no asignado).\")\n",
        "print()\n",
        "\n",
        "# 3. Asignar valores a la columna 'Sexo' basados en el campo 'Observaciones'\n",
        "# Solo modificar la columna 'Sexo' en los registros filtrados\n",
        "df.loc[df['EsPersonaFisica'] == -1, 'Sexo'] = df['Observaciones'].apply(\n",
        "    lambda x: 1 if str(x).startswith('20') else (0 if str(x).startswith('27') else -100)\n",
        ")\n",
        "print(f\"Se han asignado valores a la columna 'Sexo' basada en el campo 'Observaciones'.\")\n",
        "print()\n",
        "\n",
        "# 4. Verificar y contar los valores en la columna 'Sexo'\n",
        "sexo_counts = df['Sexo'].value_counts(dropna=False)\n",
        "print(\"Cantidad de valores en la columna 'Sexo':\")\n",
        "print(sexo_counts)\n",
        "print()\n",
        "\n",
        "# 5. Verificar la actualización del DataFrame\n",
        "print(\"Información del DataFrame después de la actualización:\")\n",
        "print(df.info())\n",
        "print()\n"
      ],
      "metadata": {
        "id": "EupuRvgiiOek",
        "outputId": "e9d4b9cc-fccc-48df-cc52-6b43071f1576",
        "colab": {
          "base_uri": "https://localhost:8080/"
        }
      },
      "execution_count": null,
      "outputs": [
        {
          "output_type": "stream",
          "name": "stdout",
          "text": [
            "Cantidad de registros de personas físicas: 171938\n",
            "\n",
            "Se ha creado la columna 'Sexo' y se ha inicializado con valor -100 (no asignado).\n",
            "\n",
            "Se han asignado valores a la columna 'Sexo' basada en el campo 'Observaciones'.\n",
            "\n",
            "Cantidad de valores en la columna 'Sexo':\n",
            "Sexo\n",
            "-100.0    171936\n",
            " NaN       52580\n",
            " 0.0           2\n",
            "Name: count, dtype: int64\n",
            "\n",
            "Información del DataFrame después de la actualización:\n",
            "<class 'pandas.core.frame.DataFrame'>\n",
            "RangeIndex: 224518 entries, 0 to 224517\n",
            "Data columns (total 42 columns):\n",
            " #   Column                Non-Null Count   Dtype         \n",
            "---  ------                --------------   -----         \n",
            " 0   CodFondo              224518 non-null  int64         \n",
            " 1   NombreFondo           224518 non-null  object        \n",
            " 2   CodAgColocador        224518 non-null  int64         \n",
            " 3   CodSucursal           224518 non-null  int64         \n",
            " 4   CodSolSusc            224518 non-null  int64         \n",
            " 5   CodTpValorCp          224518 non-null  int64         \n",
            " 6   CodCanalVta           1404 non-null    float64       \n",
            " 7   CodOficialCta         224518 non-null  int64         \n",
            " 8   CodCondicionIngEgr    224518 non-null  int64         \n",
            " 9   CodMoneda             224518 non-null  int64         \n",
            " 10  CodCuotapartista      224518 non-null  int64         \n",
            " 11  NumSolicitud          224518 non-null  int64         \n",
            " 12  Importe               224518 non-null  float64       \n",
            " 13  FechaConcertacion     224518 non-null  datetime64[ns]\n",
            " 14  FechaAcreditacion     224518 non-null  datetime64[ns]\n",
            " 15  Observaciones         2 non-null       object        \n",
            " 16  FactorConversion      224518 non-null  float64       \n",
            " 17  EstaAnulado           224518 non-null  int64         \n",
            " 18  CodAuditoriaRef       224518 non-null  int64         \n",
            " 19  EsAntesDeHorario      224518 non-null  int64         \n",
            " 20  EsArt5Bis             224518 non-null  int64         \n",
            " 21  Hora                  224518 non-null  object        \n",
            " 22  CodUsuarioIngreso     224518 non-null  int64         \n",
            " 23  CodTpOrigenSol        224518 non-null  object        \n",
            " 24  CodTpEstadoSol        224518 non-null  object        \n",
            " 25  ImporteImpTransf      0 non-null       float64       \n",
            " 26  NumCuotapartista      224518 non-null  int64         \n",
            " 27  FechaIngreso          212035 non-null  datetime64[ns]\n",
            " 28  EsPersonaFisica       224518 non-null  int64         \n",
            " 29  Perfil                0 non-null       float64       \n",
            " 30  PerfilRiesgoFechaVto  0 non-null       float64       \n",
            " 31  CodTpPerfilRiesgoCpt  222159 non-null  object        \n",
            " 32  CodPais               224518 non-null  int64         \n",
            " 33  CodProvincia          212012 non-null  float64       \n",
            " 34  Localidad             224518 non-null  object        \n",
            " 35  AlturaCalle           224491 non-null  object        \n",
            " 36  Piso                  38045 non-null   object        \n",
            " 37  Departamento          21335 non-null   object        \n",
            " 38  CodigoPostal          224518 non-null  int64         \n",
            " 39  CodTpInversor         224444 non-null  float64       \n",
            " 40  Descripcion           224444 non-null  object        \n",
            " 41  Sexo                  171938 non-null  float64       \n",
            "dtypes: datetime64[ns](3), float64(9), int64(19), object(11)\n",
            "memory usage: 71.9+ MB\n",
            "None\n",
            "\n"
          ]
        }
      ]
    },
    {
      "cell_type": "code",
      "source": [
        "df.info ()"
      ],
      "metadata": {
        "id": "iGfJ3FCjy77M",
        "outputId": "b3662a0a-ad93-4fc6-a2a6-efa52c3c9d65",
        "colab": {
          "base_uri": "https://localhost:8080/"
        }
      },
      "execution_count": null,
      "outputs": [
        {
          "output_type": "stream",
          "name": "stdout",
          "text": [
            "<class 'pandas.core.frame.DataFrame'>\n",
            "RangeIndex: 224518 entries, 0 to 224517\n",
            "Data columns (total 42 columns):\n",
            " #   Column                Non-Null Count   Dtype         \n",
            "---  ------                --------------   -----         \n",
            " 0   CodFondo              224518 non-null  int64         \n",
            " 1   NombreFondo           224518 non-null  object        \n",
            " 2   CodAgColocador        224518 non-null  int64         \n",
            " 3   CodSucursal           224518 non-null  int64         \n",
            " 4   CodSolSusc            224518 non-null  int64         \n",
            " 5   CodTpValorCp          224518 non-null  int64         \n",
            " 6   CodCanalVta           1404 non-null    float64       \n",
            " 7   CodOficialCta         224518 non-null  int64         \n",
            " 8   CodCondicionIngEgr    224518 non-null  int64         \n",
            " 9   CodMoneda             224518 non-null  int64         \n",
            " 10  CodCuotapartista      224518 non-null  int64         \n",
            " 11  NumSolicitud          224518 non-null  int64         \n",
            " 12  Importe               224518 non-null  float64       \n",
            " 13  FechaConcertacion     224518 non-null  datetime64[ns]\n",
            " 14  FechaAcreditacion     224518 non-null  datetime64[ns]\n",
            " 15  Observaciones         2 non-null       object        \n",
            " 16  FactorConversion      224518 non-null  float64       \n",
            " 17  EstaAnulado           224518 non-null  int64         \n",
            " 18  CodAuditoriaRef       224518 non-null  int64         \n",
            " 19  EsAntesDeHorario      224518 non-null  int64         \n",
            " 20  EsArt5Bis             224518 non-null  int64         \n",
            " 21  Hora                  224518 non-null  object        \n",
            " 22  CodUsuarioIngreso     224518 non-null  int64         \n",
            " 23  CodTpOrigenSol        224518 non-null  object        \n",
            " 24  CodTpEstadoSol        224518 non-null  object        \n",
            " 25  ImporteImpTransf      0 non-null       float64       \n",
            " 26  NumCuotapartista      224518 non-null  int64         \n",
            " 27  FechaIngreso          212035 non-null  datetime64[ns]\n",
            " 28  EsPersonaFisica       224518 non-null  int64         \n",
            " 29  Perfil                0 non-null       float64       \n",
            " 30  PerfilRiesgoFechaVto  0 non-null       float64       \n",
            " 31  CodTpPerfilRiesgoCpt  222159 non-null  object        \n",
            " 32  CodPais               224518 non-null  int64         \n",
            " 33  CodProvincia          212012 non-null  float64       \n",
            " 34  Localidad             224518 non-null  object        \n",
            " 35  AlturaCalle           224491 non-null  object        \n",
            " 36  Piso                  38045 non-null   object        \n",
            " 37  Departamento          21335 non-null   object        \n",
            " 38  CodigoPostal          224518 non-null  int64         \n",
            " 39  CodTpInversor         224444 non-null  float64       \n",
            " 40  Descripcion           224444 non-null  object        \n",
            " 41  Sexo                  171938 non-null  float64       \n",
            "dtypes: datetime64[ns](3), float64(9), int64(19), object(11)\n",
            "memory usage: 71.9+ MB\n"
          ]
        }
      ]
    },
    {
      "cell_type": "code",
      "source": [
        "# Utilizamos el comando describe () para ver valores estadisticos como la media, valor mínimo, valor máximo pero solo de las columnas de interes. Al comando le aplique un formato de estilo ya que\n",
        "#lo mostraba en notacion exponencial/cientifica y me dificultaba leerlo.\n",
        "#descripcion = df.describe().style.format(\"{:.2f}\")\n",
        "#display(descripcion)\n",
        "\n",
        "columns_of_interest = ['Importe', 'FechaConcertacion', 'FechaAcreditacion', 'Hora', 'Descripcion', 'EsPersonaFisica']\n",
        "df_subset = df[columns_of_interest]\n",
        "\n",
        "# Aplicar describe() solo a las columnas seleccionadas\n",
        "df_describe = df_subset.describe(include='all')\n",
        "\n",
        "# Función personalizada para formatear como moneda\n",
        "def currency_format(x):\n",
        "    if pd.isna(x):\n",
        "        return ''\n",
        "    return \"${:,.2f}\".format(x)\n",
        "\n",
        "# Aplicar formato personalizado solo a la columna 'Importe'\n",
        "descripcion = df_subset.describe(include='all').style.format({\n",
        "    'Importe': currency_format,\n",
        "    # Aplica formato general a las columnas numéricas (opcional)\n",
        "    #**{col: \"{:.2f}\" for col in df_subset.select_dtypes(include=['float', 'int']).columns if col != 'Importe'}\n",
        "})\n",
        "\n",
        "# Mostrar la descripción formateada\n",
        "display(descripcion)"
      ],
      "metadata": {
        "id": "e3lyaeDJ4EE-",
        "outputId": "2b6b2a43-6559-4d73-f15c-f91ecacfeabe",
        "colab": {
          "base_uri": "https://localhost:8080/",
          "height": 394
        }
      },
      "execution_count": null,
      "outputs": [
        {
          "output_type": "display_data",
          "data": {
            "text/plain": [
              "<pandas.io.formats.style.Styler at 0x7a240fdd9870>"
            ],
            "text/html": [
              "<style type=\"text/css\">\n",
              "</style>\n",
              "<table id=\"T_2020f\" class=\"dataframe\">\n",
              "  <thead>\n",
              "    <tr>\n",
              "      <th class=\"blank level0\" >&nbsp;</th>\n",
              "      <th id=\"T_2020f_level0_col0\" class=\"col_heading level0 col0\" >Importe</th>\n",
              "      <th id=\"T_2020f_level0_col1\" class=\"col_heading level0 col1\" >FechaConcertacion</th>\n",
              "      <th id=\"T_2020f_level0_col2\" class=\"col_heading level0 col2\" >FechaAcreditacion</th>\n",
              "      <th id=\"T_2020f_level0_col3\" class=\"col_heading level0 col3\" >Hora</th>\n",
              "      <th id=\"T_2020f_level0_col4\" class=\"col_heading level0 col4\" >Descripcion</th>\n",
              "      <th id=\"T_2020f_level0_col5\" class=\"col_heading level0 col5\" >EsPersonaFisica</th>\n",
              "    </tr>\n",
              "  </thead>\n",
              "  <tbody>\n",
              "    <tr>\n",
              "      <th id=\"T_2020f_level0_row0\" class=\"row_heading level0 row0\" >count</th>\n",
              "      <td id=\"T_2020f_row0_col0\" class=\"data row0 col0\" >$224,518.00</td>\n",
              "      <td id=\"T_2020f_row0_col1\" class=\"data row0 col1\" >224518</td>\n",
              "      <td id=\"T_2020f_row0_col2\" class=\"data row0 col2\" >224518</td>\n",
              "      <td id=\"T_2020f_row0_col3\" class=\"data row0 col3\" >224518</td>\n",
              "      <td id=\"T_2020f_row0_col4\" class=\"data row0 col4\" >224444</td>\n",
              "      <td id=\"T_2020f_row0_col5\" class=\"data row0 col5\" >224518.000000</td>\n",
              "    </tr>\n",
              "    <tr>\n",
              "      <th id=\"T_2020f_level0_row1\" class=\"row_heading level0 row1\" >unique</th>\n",
              "      <td id=\"T_2020f_row1_col0\" class=\"data row1 col0\" ></td>\n",
              "      <td id=\"T_2020f_row1_col1\" class=\"data row1 col1\" >nan</td>\n",
              "      <td id=\"T_2020f_row1_col2\" class=\"data row1 col2\" >nan</td>\n",
              "      <td id=\"T_2020f_row1_col3\" class=\"data row1 col3\" >92095</td>\n",
              "      <td id=\"T_2020f_row1_col4\" class=\"data row1 col4\" >9</td>\n",
              "      <td id=\"T_2020f_row1_col5\" class=\"data row1 col5\" >nan</td>\n",
              "    </tr>\n",
              "    <tr>\n",
              "      <th id=\"T_2020f_level0_row2\" class=\"row_heading level0 row2\" >top</th>\n",
              "      <td id=\"T_2020f_row2_col0\" class=\"data row2 col0\" ></td>\n",
              "      <td id=\"T_2020f_row2_col1\" class=\"data row2 col1\" >nan</td>\n",
              "      <td id=\"T_2020f_row2_col2\" class=\"data row2 col2\" >nan</td>\n",
              "      <td id=\"T_2020f_row2_col3\" class=\"data row2 col3\" >2023-12-22 15:55:00</td>\n",
              "      <td id=\"T_2020f_row2_col4\" class=\"data row2 col4\" >Personas Humanas Argentina Mayores de Edad</td>\n",
              "      <td id=\"T_2020f_row2_col5\" class=\"data row2 col5\" >nan</td>\n",
              "    </tr>\n",
              "    <tr>\n",
              "      <th id=\"T_2020f_level0_row3\" class=\"row_heading level0 row3\" >freq</th>\n",
              "      <td id=\"T_2020f_row3_col0\" class=\"data row3 col0\" ></td>\n",
              "      <td id=\"T_2020f_row3_col1\" class=\"data row3 col1\" >nan</td>\n",
              "      <td id=\"T_2020f_row3_col2\" class=\"data row3 col2\" >nan</td>\n",
              "      <td id=\"T_2020f_row3_col3\" class=\"data row3 col3\" >16</td>\n",
              "      <td id=\"T_2020f_row3_col4\" class=\"data row3 col4\" >171864</td>\n",
              "      <td id=\"T_2020f_row3_col5\" class=\"data row3 col5\" >nan</td>\n",
              "    </tr>\n",
              "    <tr>\n",
              "      <th id=\"T_2020f_level0_row4\" class=\"row_heading level0 row4\" >mean</th>\n",
              "      <td id=\"T_2020f_row4_col0\" class=\"data row4 col0\" >$5,412,084.77</td>\n",
              "      <td id=\"T_2020f_row4_col1\" class=\"data row4 col1\" >2023-08-05 03:17:47.214210048</td>\n",
              "      <td id=\"T_2020f_row4_col2\" class=\"data row4 col2\" >2023-08-05 03:17:47.214210048</td>\n",
              "      <td id=\"T_2020f_row4_col3\" class=\"data row4 col3\" >nan</td>\n",
              "      <td id=\"T_2020f_row4_col4\" class=\"data row4 col4\" >nan</td>\n",
              "      <td id=\"T_2020f_row4_col5\" class=\"data row4 col5\" >-0.765809</td>\n",
              "    </tr>\n",
              "    <tr>\n",
              "      <th id=\"T_2020f_level0_row5\" class=\"row_heading level0 row5\" >min</th>\n",
              "      <td id=\"T_2020f_row5_col0\" class=\"data row5 col0\" >$0.00</td>\n",
              "      <td id=\"T_2020f_row5_col1\" class=\"data row5 col1\" >2023-01-02 00:00:00</td>\n",
              "      <td id=\"T_2020f_row5_col2\" class=\"data row5 col2\" >2023-01-02 00:00:00</td>\n",
              "      <td id=\"T_2020f_row5_col3\" class=\"data row5 col3\" >nan</td>\n",
              "      <td id=\"T_2020f_row5_col4\" class=\"data row5 col4\" >nan</td>\n",
              "      <td id=\"T_2020f_row5_col5\" class=\"data row5 col5\" >-1.000000</td>\n",
              "    </tr>\n",
              "    <tr>\n",
              "      <th id=\"T_2020f_level0_row6\" class=\"row_heading level0 row6\" >25%</th>\n",
              "      <td id=\"T_2020f_row6_col0\" class=\"data row6 col0\" >$50,000.00</td>\n",
              "      <td id=\"T_2020f_row6_col1\" class=\"data row6 col1\" >2023-05-23 00:00:00</td>\n",
              "      <td id=\"T_2020f_row6_col2\" class=\"data row6 col2\" >2023-05-23 00:00:00</td>\n",
              "      <td id=\"T_2020f_row6_col3\" class=\"data row6 col3\" >nan</td>\n",
              "      <td id=\"T_2020f_row6_col4\" class=\"data row6 col4\" >nan</td>\n",
              "      <td id=\"T_2020f_row6_col5\" class=\"data row6 col5\" >-1.000000</td>\n",
              "    </tr>\n",
              "    <tr>\n",
              "      <th id=\"T_2020f_level0_row7\" class=\"row_heading level0 row7\" >50%</th>\n",
              "      <td id=\"T_2020f_row7_col0\" class=\"data row7 col0\" >$200,000.00</td>\n",
              "      <td id=\"T_2020f_row7_col1\" class=\"data row7 col1\" >2023-08-18 00:00:00</td>\n",
              "      <td id=\"T_2020f_row7_col2\" class=\"data row7 col2\" >2023-08-18 00:00:00</td>\n",
              "      <td id=\"T_2020f_row7_col3\" class=\"data row7 col3\" >nan</td>\n",
              "      <td id=\"T_2020f_row7_col4\" class=\"data row7 col4\" >nan</td>\n",
              "      <td id=\"T_2020f_row7_col5\" class=\"data row7 col5\" >-1.000000</td>\n",
              "    </tr>\n",
              "    <tr>\n",
              "      <th id=\"T_2020f_level0_row8\" class=\"row_heading level0 row8\" >75%</th>\n",
              "      <td id=\"T_2020f_row8_col0\" class=\"data row8 col0\" >$960,000.00</td>\n",
              "      <td id=\"T_2020f_row8_col1\" class=\"data row8 col1\" >2023-10-30 00:00:00</td>\n",
              "      <td id=\"T_2020f_row8_col2\" class=\"data row8 col2\" >2023-10-30 00:00:00</td>\n",
              "      <td id=\"T_2020f_row8_col3\" class=\"data row8 col3\" >nan</td>\n",
              "      <td id=\"T_2020f_row8_col4\" class=\"data row8 col4\" >nan</td>\n",
              "      <td id=\"T_2020f_row8_col5\" class=\"data row8 col5\" >-1.000000</td>\n",
              "    </tr>\n",
              "    <tr>\n",
              "      <th id=\"T_2020f_level0_row9\" class=\"row_heading level0 row9\" >max</th>\n",
              "      <td id=\"T_2020f_row9_col0\" class=\"data row9 col0\" >$50,000,000,000.00</td>\n",
              "      <td id=\"T_2020f_row9_col1\" class=\"data row9 col1\" >2023-12-29 00:00:00</td>\n",
              "      <td id=\"T_2020f_row9_col2\" class=\"data row9 col2\" >2023-12-29 00:00:00</td>\n",
              "      <td id=\"T_2020f_row9_col3\" class=\"data row9 col3\" >nan</td>\n",
              "      <td id=\"T_2020f_row9_col4\" class=\"data row9 col4\" >nan</td>\n",
              "      <td id=\"T_2020f_row9_col5\" class=\"data row9 col5\" >0.000000</td>\n",
              "    </tr>\n",
              "    <tr>\n",
              "      <th id=\"T_2020f_level0_row10\" class=\"row_heading level0 row10\" >std</th>\n",
              "      <td id=\"T_2020f_row10_col0\" class=\"data row10 col0\" >$159,337,852.09</td>\n",
              "      <td id=\"T_2020f_row10_col1\" class=\"data row10 col1\" >nan</td>\n",
              "      <td id=\"T_2020f_row10_col2\" class=\"data row10 col2\" >nan</td>\n",
              "      <td id=\"T_2020f_row10_col3\" class=\"data row10 col3\" >nan</td>\n",
              "      <td id=\"T_2020f_row10_col4\" class=\"data row10 col4\" >nan</td>\n",
              "      <td id=\"T_2020f_row10_col5\" class=\"data row10 col5\" >0.423493</td>\n",
              "    </tr>\n",
              "  </tbody>\n",
              "</table>\n"
            ]
          },
          "metadata": {}
        }
      ]
    },
    {
      "cell_type": "code",
      "source": [
        "# Contar el número de suscripciones por perfil de riesgo\n",
        "suscripciones_per_perfil = df['CodTpPerfilRiesgoCpt'].value_counts().reset_index()\n",
        "suscripciones_per_perfil.columns = ['PerfilRiesgo', 'NumeroSuscripciones']\n",
        "\n",
        "# Definir una paleta de colores personalizada\n",
        "palette = {\n",
        "    'CON': 'skyblue',\n",
        "    'AGR': 'orange',\n",
        "    'MOD': 'lightgreen'\n",
        "}\n",
        "\n",
        "# Configurar el estilo del gráfico\n",
        "sns.set(style=\"whitegrid\")\n",
        "\n",
        "# Crear el gráfico de barras con colores personalizados\n",
        "plt.figure(figsize=(10, 6))\n",
        "sns.barplot(x='PerfilRiesgo', y='NumeroSuscripciones', data=suscripciones_per_perfil, palette=palette)\n",
        "plt.title('Número de Suscripciones por Perfil de Riesgo')\n",
        "plt.xlabel('Perfil de Riesgo')\n",
        "plt.ylabel('Número de Suscripciones')\n",
        "plt.show()\n",
        "\n",
        "\n",
        "\n"
      ],
      "metadata": {
        "id": "sYxu29FjdF2p",
        "colab": {
          "base_uri": "https://localhost:8080/",
          "height": 660
        },
        "outputId": "4e88b2a9-b492-4c57-e450-67a39861c248"
      },
      "execution_count": null,
      "outputs": [
        {
          "output_type": "stream",
          "name": "stderr",
          "text": [
            "<ipython-input-19-359d3e89afce>:17: FutureWarning: \n",
            "\n",
            "Passing `palette` without assigning `hue` is deprecated and will be removed in v0.14.0. Assign the `x` variable to `hue` and set `legend=False` for the same effect.\n",
            "\n",
            "  sns.barplot(x='PerfilRiesgo', y='NumeroSuscripciones', data=suscripciones_per_perfil, palette=palette)\n"
          ]
        },
        {
          "output_type": "display_data",
          "data": {
            "text/plain": [
              "<Figure size 1000x600 with 1 Axes>"
            ],
            "image/png": "[encoded data removed]"
          },
          "metadata": {}
        }
      ]
    },
    {
      "cell_type": "code",
      "source": [
        "\n",
        "# Agrupar por perfil de riesgo y sumar la cantidad de dinero invertido\n",
        "\n",
        "inversion_por_perfil = df.groupby('CodTpPerfilRiesgoCpt', observed=False)['Importe'].sum().reset_index()\n",
        "\n",
        "inversion_por_perfil.columns = ['PerfilRiesgo', 'TotalInvertido']\n",
        "\n",
        "# Definir una paleta de colores personalizada\n",
        "palette = {\n",
        "    'CON': 'skyblue',\n",
        "    'AGR': 'orange',\n",
        "    'MOD': 'lightgreen'\n",
        "}\n",
        "\n",
        "# Configurar el estilo del gráfico\n",
        "sns.set(style=\"whitegrid\")\n",
        "\n",
        "# Crear el gráfico de barras con colores personalizados\n",
        "plt.figure(figsize=(10, 6))\n",
        "sns.barplot(x='PerfilRiesgo', y='TotalInvertido', data=inversion_por_perfil, palette=palette)\n",
        "plt.title('Cantidad de Dinero Invertido por Perfil de Riesgo')\n",
        "plt.xlabel('Perfil de Riesgo')\n",
        "plt.ylabel('Cantidad Total Invertida')\n",
        "plt.show()\n",
        "\n",
        "\n",
        "\n",
        "\n"
      ],
      "metadata": {
        "colab": {
          "base_uri": "https://localhost:8080/",
          "height": 660
        },
        "id": "tzyFWMGznS5v",
        "outputId": "fa431e5f-714b-4930-9b0b-4ecb452a4fe3"
      },
      "execution_count": null,
      "outputs": [
        {
          "output_type": "stream",
          "name": "stderr",
          "text": [
            "<ipython-input-27-2537a23ea953>:19: FutureWarning: \n",
            "\n",
            "Passing `palette` without assigning `hue` is deprecated and will be removed in v0.14.0. Assign the `x` variable to `hue` and set `legend=False` for the same effect.\n",
            "\n",
            "  sns.barplot(x='PerfilRiesgo', y='TotalInvertido', data=inversion_por_perfil, palette=palette)\n"
          ]
        },
        {
          "output_type": "display_data",
          "data": {
            "text/plain": [
              "<Figure size 1000x600 with 1 Axes>"
            ],
            "image/png": "[encoded data removed]"
          },
          "metadata": {}
        }
      ]
    },
    {
      "cell_type": "markdown",
      "source": [
        "Nuestra hipótesis a dilucidar es: **Hipótesis: Los inversores con un perfil de riesgo más alto realizan más solicitudes de suscripción y rescates en comparación con los inversores con perfiles más conservadores. es NULA** por el gráfico vemos que el mayor número de suscripciones se realizan por perfil de riesgo *moderado*. También podemos observar que los clientes con **perfil conservador** son los que mayores montos invierten, y por el contrario podemos observar que los que menos plata y menos suscripciones hacen son los perfiles agresivos.\n",
        "\n",
        "**Como insight para el negocio**, podemos revisar la cantidad de fondos que existe por perfil de riesgo, porque podemos llegar  inferir que una razón de esa baja es porque el negocio no ofrece fondos para ese tipo de perfil de clientes.\n",
        "\n",
        "También vamos a revisar la cantidad de clientes por perfil de riesgo y la cantidad de fondos disponibles para cada tipo de perfil.\n",
        "\n"
      ],
      "metadata": {
        "id": "5v-yv449qf4i"
      }
    },
    {
      "cell_type": "code",
      "source": [
        "# Crear un DataFrame a partir de la tabla proporcionada\n",
        "data = {\n",
        "    'Fondo': [\n",
        "        'Inmediato', 'Inmediato Plus', 'Ahorro Pesos',\n",
        "        'Abierto Pymes', 'Cobertura', 'Estrategico',\n",
        "        'Renta Futura', 'Renta Dólar', 'Renta Variable',\n",
        "        'Renta Pesos'\n",
        "    ],\n",
        "    'Perfil': [\n",
        "        'CON', 'CON', 'CON',\n",
        "        'MOD', 'MOD', 'MOD',\n",
        "        'MOD', 'MOD', 'AGR',\n",
        "        'MOD'\n",
        "    ]\n",
        "}\n",
        "\n",
        "df_fondos = pd.DataFrame(data)\n",
        "\n",
        "# Contar la cantidad de fondos por tipo de perfil\n",
        "fondos_por_perfil = df_fondos['Perfil'].value_counts().reset_index()\n",
        "fondos_por_perfil.columns = ['Perfil', 'CantidadFondos']\n",
        "\n",
        "# Verificar los datos\n",
        "print(fondos_por_perfil)\n",
        "\n",
        "# Definir una paleta de colores personalizada\n",
        "palette = {\n",
        "    'CON': 'skyblue',\n",
        "    'AGR': 'orange',\n",
        "    'MOD': 'lightgreen'\n",
        "}\n",
        "\n",
        "# Configurar el estilo del gráfico\n",
        "sns.set(style=\"whitegrid\")\n",
        "\n",
        "# Crear el gráfico de barras\n",
        "plt.figure(figsize=(10, 6))\n",
        "sns.barplot(x='Perfil', y='CantidadFondos', data=fondos_por_perfil, palette=palette)\n",
        "\n",
        "# Configurar el título y las etiquetas\n",
        "plt.title('Cantidad de Fondos por Tipo de Perfil de Inversor')\n",
        "plt.xlabel('Tipo de Perfil de Inversor')\n",
        "plt.ylabel('Cantidad de Fondos')\n",
        "plt.show()\n"
      ],
      "metadata": {
        "id": "-Cdj97vvpk22",
        "outputId": "74731e90-c543-465c-a300-fb962af82411",
        "colab": {
          "base_uri": "https://localhost:8080/",
          "height": 729
        }
      },
      "execution_count": null,
      "outputs": [
        {
          "output_type": "stream",
          "name": "stdout",
          "text": [
            "  Perfil  CantidadFondos\n",
            "0    MOD               6\n",
            "1    CON               3\n",
            "2    AGR               1\n"
          ]
        },
        {
          "output_type": "stream",
          "name": "stderr",
          "text": [
            "<ipython-input-34-378e52d23282>:38: FutureWarning: \n",
            "\n",
            "Passing `palette` without assigning `hue` is deprecated and will be removed in v0.14.0. Assign the `x` variable to `hue` and set `legend=False` for the same effect.\n",
            "\n",
            "  sns.barplot(x='Perfil', y='CantidadFondos', data=fondos_por_perfil, palette=palette)\n"
          ]
        },
        {
          "output_type": "display_data",
          "data": {
            "text/plain": [
              "<Figure size 1000x600 with 1 Axes>"
            ],
            "image/png": "[encoded data removed]"
          },
          "metadata": {}
        }
      ]
    },
    {
      "cell_type": "code",
      "source": [
        "\n",
        "\n",
        "# Agrupar por CodTpPerfilRiesgoCpt y contar la cantidad de registros\n",
        "clientes_por_perfil = df['CodTpPerfilRiesgoCpt'].value_counts().reset_index()\n",
        "clientes_por_perfil.columns = ['PerfilRiesgo', 'CantidadClientes']\n",
        "\n",
        "# Verificar los datos\n",
        "print(clientes_por_perfil)\n",
        "\n",
        "# Definir una paleta de colores personalizada\n",
        "palette = {\n",
        "    'CON': 'skyblue',\n",
        "    'AGR': 'orange',\n",
        "    'MOD': 'lightgreen'\n",
        "}\n",
        "\n",
        "# Configurar el estilo del gráfico\n",
        "plt.figure(figsize=(8, 8))\n",
        "\n",
        "# Crear el gráfico de torta\n",
        "plt.pie(\n",
        "    clientes_por_perfil['CantidadClientes'],\n",
        "    labels=clientes_por_perfil['PerfilRiesgo'],\n",
        "    colors=[palette.get(x, 'grey') for x in clientes_por_perfil['PerfilRiesgo']],\n",
        "    autopct='%1.1f%%',\n",
        "    startangle=140,\n",
        "    wedgeprops=dict(width=0.4)\n",
        ")\n",
        "\n",
        "# Configurar el título\n",
        "plt.title('Distribución de Clientes por Tipo de Perfil de Riesgo')\n",
        "\n",
        "# Mostrar el gráfico\n",
        "plt.show()\n"
      ],
      "metadata": {
        "id": "5-j7APkF9Q4w",
        "outputId": "3daf4ea9-b1de-4ba7-c021-e3892d3495e0",
        "colab": {
          "base_uri": "https://localhost:8080/",
          "height": 744
        }
      },
      "execution_count": 16,
      "outputs": [
        {
          "output_type": "stream",
          "name": "stdout",
          "text": [
            "  PerfilRiesgo  CantidadClientes\n",
            "0          MOD            107134\n",
            "1          CON             94505\n",
            "2          AGR             20520\n"
          ]
        },
        {
          "output_type": "display_data",
          "data": {
            "text/plain": [
              "<Figure size 800x800 with 1 Axes>"
            ],
            "image/png": "[encoded data removed]"
          },
          "metadata": {}
        }
      ]
    },
    {
      "cell_type": "markdown",
      "source": [
        "# Los hombres invierten más que las mujeres"
      ],
      "metadata": {
        "id": "qUGSbMAPTl1_"
      }
    },
    {
      "cell_type": "code",
      "source": [],
      "metadata": {
        "id": "xLS0iYteTsk7"
      },
      "execution_count": null,
      "outputs": []
    }
  ]
}