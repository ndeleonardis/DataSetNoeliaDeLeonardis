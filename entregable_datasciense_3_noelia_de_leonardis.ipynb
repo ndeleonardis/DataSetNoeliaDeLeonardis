{
  "nbformat": 4,
  "nbformat_minor": 0,
  "metadata": {
    "colab": {
      "provenance": [],
      "toc_visible": true,
      "authorship_tag": "ABX9TyPMzJwrHunoQWLOtpS1C8YJ",
      "include_colab_link": true
    },
    "kernelspec": {
      "name": "python3",
      "display_name": "Python 3"
    },
    "language_info": {
      "name": "python"
    }
  },
  "cells": [
    {
      "cell_type": "markdown",
      "metadata": {
        "id": "view-in-github",
        "colab_type": "text"
      },
      "source": [
        "<a href=\"https://colab.research.google.com/github/ndeleonardis/DataSetNoeliaDeLeonardis/blob/main/entregable_datasciense_3_noelia_de_leonardis.ipynb\" target=\"_parent\"><img src=\"https://colab.research.google.com/assets/colab-badge.svg\" alt=\"Open In Colab\"/></a>"
      ]
    },
    {
      "cell_type": "code",
      "execution_count": null,
      "metadata": {
        "id": "xTeFDtPcHApj"
      },
      "outputs": [],
      "source": []
    },
    {
      "cell_type": "markdown",
      "source": [
        "# Introducción"
      ],
      "metadata": {
        "id": "VYlaE4t9TwtR"
      }
    },
    {
      "cell_type": "markdown",
      "source": [
        "\n",
        "Para este trabajo se usará un **dataset confidencial** vinculado a **Fondos Comunes de Inversión del banco de Córdoba**, llamados **Fondos Champaquí**.\n",
        "\n",
        "Antes que nada vamos a definir que es un **Fondo Común de Inversión**, fondo común de inversión es un vehículo financiero que agrupa el capital de múltiples inversores para invertir en una cartera diversificada de activos, como acciones, bonos o bienes raíces. La gestión de estas inversiones es realizada por profesionales especializados, y los rendimientos se distribuyen entre los inversores en función de su participación en el fondo.\n",
        "\n",
        "A modo general, se trabajo en la obtención de información, la misma esta parcializada ya que solo se tiene acceso a la base de fondos y no a otras integraciones.\n",
        "\n",
        "Para dar un pantallazo, para que un cliente pueda operar en Fondos Champaquí, debe abrir una cuenta de inversión, la misma queda registrada en otra base de datos a la cual no tenemos acceso, pero los datos del cliente se preplican de forma parcial.\n",
        "\n",
        "\n",
        "Cada cliente para poder operar como indicamos tiene que poseer una cuenta de inversión y realizar el perfil de inversor, que dice que adversión al riesgo puede tener la persona, conservadora, moderada, o agresiva. Basicamente es que nivel de riesgo esta dispuesta a tomar para obtener ganancias.\n",
        "\n",
        "El trabajo va estar dividido en 2 partes primordiales que serán la solicitudes de suscripción y rescate cursadas en el año 2023."
      ],
      "metadata": {
        "id": "ECHqCZdCU_sO"
      }
    },
    {
      "cell_type": "markdown",
      "source": [
        "# Hipótesis que trataremos de responder haciendo uso del data wrangling  y EDA"
      ],
      "metadata": {
        "id": "vRyNLaD8cVMw"
      }
    },
    {
      "cell_type": "markdown",
      "source": [
        "**Patrones de Suscripción y Rescate según el Perfil de Riesgo**\n",
        "\n",
        "**Hipótesis:** Los inversores con un perfil de riesgo más alto realizan más solicitudes de suscripción y rescates en comparación con los inversores con perfiles más conservadores.\\\n",
        "\n",
        "**Los hombres invierten más que las mujeres**\n",
        "\n",
        "**Hipótesis:** Es verdad que los hombres invierten más que las mujeres?.\n",
        "\n",
        "**En que temporada se concentran más suscripciones y rescates?**\n",
        "\n",
        "**Hipótesis:** Hay patrones estacionales en las solicitudes de suscripción y rescates, como un aumento durante ciertos meses del año.\n"
      ],
      "metadata": {
        "id": "vNrZJ7BdckNW"
      }
    },
    {
      "cell_type": "code",
      "source": [
        "#Importación de Librerias\n",
        "import pandas as pd\n",
        "import numpy as np"
      ],
      "metadata": {
        "id": "mgd2fXVkeBDh"
      },
      "execution_count": 15,
      "outputs": []
    },
    {
      "cell_type": "code",
      "source": [
        "\n",
        "# Cargamaos el archivo usamos URL cruda del archivo CSV que esta en nuestro GitHub\n",
        "url = 'https://raw.githubusercontent.com/ndeleonardis/DataSetNoeliaDeLeonardis/main/dataset_suscripciones_2023.csv'\n",
        "\n",
        "\n",
        "# Cargar el archivo CSV en un DataFrame de Pandas\n",
        "try:\n",
        "    df = pd.read_csv(url)\n",
        "    print(\"El archivo CSV se ha cargado exitosamente.\")\n",
        "except Exception as e:\n",
        "    print(\"Se produjo un error al cargar el archivo CSV:\", e)"
      ],
      "metadata": {
        "id": "cl1XymoceE2M",
        "outputId": "e42f9500-7564-4a62-83a7-7acd81ffcbc8",
        "colab": {
          "base_uri": "https://localhost:8080/"
        }
      },
      "execution_count": 4,
      "outputs": [
        {
          "output_type": "stream",
          "name": "stdout",
          "text": [
            "El archivo CSV se ha cargado exitosamente.\n"
          ]
        }
      ]
    },
    {
      "cell_type": "code",
      "source": [
        "#Exploramos el dataframe con el comando info que nos da información del tipo de datos y nro de entradas y valores nulos.\n",
        "df.info()"
      ],
      "metadata": {
        "id": "p8WeI0czVbWY",
        "outputId": "6d6e8549-1496-48d3-8a54-746e8b91fdac",
        "colab": {
          "base_uri": "https://localhost:8080/"
        }
      },
      "execution_count": 6,
      "outputs": [
        {
          "output_type": "stream",
          "name": "stdout",
          "text": [
            "<class 'pandas.core.frame.DataFrame'>\n",
            "RangeIndex: 224518 entries, 0 to 224517\n",
            "Data columns (total 43 columns):\n",
            " #   Column                Non-Null Count   Dtype  \n",
            "---  ------                --------------   -----  \n",
            " 0   CodFondo              224518 non-null  int64  \n",
            " 1   Nombre                224518 non-null  object \n",
            " 2   CodAgColocador        224518 non-null  int64  \n",
            " 3   CodSucursal           224518 non-null  int64  \n",
            " 4   CodSolSusc            224518 non-null  int64  \n",
            " 5   CodTpValorCp          224518 non-null  int64  \n",
            " 6   CodCanalVta           1404 non-null    float64\n",
            " 7   CodOficialCta         224518 non-null  int64  \n",
            " 8   CodCondicionIngEgr    224518 non-null  int64  \n",
            " 9   CodMoneda             224518 non-null  int64  \n",
            " 10  CodCuotapartista      224518 non-null  int64  \n",
            " 11  NumSolicitud          224518 non-null  int64  \n",
            " 12  Importe               224518 non-null  float64\n",
            " 13  FechaConcertacion     224518 non-null  object \n",
            " 14  FechaAcreditacion     224518 non-null  object \n",
            " 15  Observaciones         222413 non-null  object \n",
            " 16  FactorConversion      224518 non-null  float64\n",
            " 17  EstaAnulado           224518 non-null  int64  \n",
            " 18  CodAuditoriaRef       224518 non-null  int64  \n",
            " 19  EsAntesDeHorario      224518 non-null  int64  \n",
            " 20  EsArt5Bis             224518 non-null  int64  \n",
            " 21  Hora                  224518 non-null  object \n",
            " 22  CodUsuarioIngreso     224518 non-null  int64  \n",
            " 23  CodTpOrigenSol        224518 non-null  object \n",
            " 24  CodTpEstadoSol        224518 non-null  object \n",
            " 25  ImporteImpTransf      0 non-null       float64\n",
            " 26  Nombre.1              224518 non-null  object \n",
            " 27  NumCuotapartista      224518 non-null  int64  \n",
            " 28  FechaIngreso          212035 non-null  object \n",
            " 29  EsPersonaFisica       224518 non-null  int64  \n",
            " 30  Perfil                0 non-null       float64\n",
            " 31  PerfilRiesgoFechaVto  0 non-null       float64\n",
            " 32  CodTpPerfilRiesgoCpt  222159 non-null  object \n",
            " 33  CodPais               224518 non-null  int64  \n",
            " 34  CodProvincia          212012 non-null  float64\n",
            " 35  Localidad             224518 non-null  object \n",
            " 36  AlturaCalle           224491 non-null  object \n",
            " 37  Piso                  38045 non-null   object \n",
            " 38  Departamento          21335 non-null   object \n",
            " 39  CodigoPostal          224518 non-null  int64  \n",
            " 40  EMail                 224375 non-null  object \n",
            " 41  CodTpInversor         224444 non-null  float64\n",
            " 42  Descripcion           224444 non-null  object \n",
            "dtypes: float64(8), int64(19), object(16)\n",
            "memory usage: 73.7+ MB\n"
          ]
        }
      ]
    },
    {
      "cell_type": "markdown",
      "source": [
        "Luego de ejecutar este comando vemos que:\n",
        "**Tenemos un total de 224.518 registros** (RangeIndex: 224518 entries, 0 to 224517)\n",
        "Con la salida de este comando vemos las siguientes observaciones:\n",
        "\n",
        "* **Campos Fechas (FechaConcertacion / FechaAcreditacion / FechaIngreso)** no tienen el formato fecha\n",
        "* **CodCanalVta** solo tiene 1404 valores No nulls\n",
        "* **Observaciones** que nos sera de utilidad tiene  222.413 non-null es decir que nos faltan 2.105 con datos, ya vamos a filtrar por esas columnas a fin de determinar que realizaremos.\n",
        "También vemos que las fechas no estan en formato de fecha.\n",
        "* Datos con valores todos nullos (Perfil/PerfilRiesgoFechaVto  )\n"
      ],
      "metadata": {
        "id": "GDumvw67Xo7V"
      }
    },
    {
      "cell_type": "code",
      "source": [
        "df_filtered = df[df['CodCanalVta'].notna()]\n",
        "print(df_filtered)\n",
        "\n"
      ],
      "metadata": {
        "id": "ttS4_iUnaMN1",
        "outputId": "8f520c8a-c6f7-4304-856d-0a37921c3676",
        "colab": {
          "base_uri": "https://localhost:8080/"
        }
      },
      "execution_count": 14,
      "outputs": [
        {
          "output_type": "stream",
          "name": "stdout",
          "text": [
            "        CodFondo                  Nombre  CodAgColocador  CodSucursal  \\\n",
            "900            1  Champaquí Ahorro Pesos               1            4   \n",
            "901            1  Champaquí Ahorro Pesos               1            4   \n",
            "927            1  Champaquí Ahorro Pesos               1            4   \n",
            "928            1  Champaquí Ahorro Pesos               1            4   \n",
            "929            1  Champaquí Ahorro Pesos               1            4   \n",
            "...          ...                     ...             ...          ...   \n",
            "224507         9  Champaqui Renta Futura               1          152   \n",
            "224511         9  Champaqui Renta Futura               1          152   \n",
            "224512         9  Champaqui Renta Futura               1          152   \n",
            "224514         9  Champaqui Renta Futura               1          161   \n",
            "224516         9  Champaqui Renta Futura               1          161   \n",
            "\n",
            "        CodSolSusc  CodTpValorCp  CodCanalVta  CodOficialCta  \\\n",
            "900         164095             4          2.0              4   \n",
            "901         164113             4          2.0              4   \n",
            "927         170952             1          2.0              4   \n",
            "928         170955             4          2.0              4   \n",
            "929         170956             4          2.0              4   \n",
            "...            ...           ...          ...            ...   \n",
            "224507      268072            32          2.0            152   \n",
            "224511      272954            30          2.0            152   \n",
            "224512      272960            32          2.0            152   \n",
            "224514      225693            32          2.0            161   \n",
            "224516      225731            32          2.0            161   \n",
            "\n",
            "        CodCondicionIngEgr  CodMoneda  ...  CodPais  CodProvincia   Localidad  \\\n",
            "900                     10          1  ...        1           3.0  RIO CUARTO   \n",
            "901                     10          1  ...        1           3.0  RIO CUARTO   \n",
            "927                      1          1  ...        1           3.0  RIO CUARTO   \n",
            "928                     10          1  ...        1           3.0  RIO CUARTO   \n",
            "929                     10          1  ...        1           3.0  RIO CUARTO   \n",
            "...                    ...        ...  ...      ...           ...         ...   \n",
            "224507                  27          1  ...        1           3.0     CORDOBA   \n",
            "224511                  29          1  ...        1           3.0     CORDOBA   \n",
            "224512                  27          1  ...        1           3.0     CORDOBA   \n",
            "224514                  27          1  ...        1           3.0     CORDOBA   \n",
            "224516                  27          1  ...        1           3.0     CORDOBA   \n",
            "\n",
            "       AlturaCalle Piso Departamento  CodigoPostal  \\\n",
            "900            650    0            0          5800   \n",
            "901            650    0            0          5800   \n",
            "927            650    0            0          5800   \n",
            "928            650    0            0          5800   \n",
            "929            419  NaN          NaN          5800   \n",
            "...            ...  ...          ...           ...   \n",
            "224507         160  NaN          NaN          5000   \n",
            "224511         160  NaN          NaN          5000   \n",
            "224512         160  NaN          NaN          5000   \n",
            "224514          19    7          NaN          5000   \n",
            "224516          19    7          NaN          5000   \n",
            "\n",
            "                              EMail  CodTpInversor  \\\n",
            "900     micarranza@riocuarto.gov.ar           10.0   \n",
            "901     micarranza@riocuarto.gov.ar           10.0   \n",
            "927     micarranza@riocuarto.gov.ar           10.0   \n",
            "928     micarranza@riocuarto.gov.ar           10.0   \n",
            "929      clientescoise@yahoo.com.ar            2.0   \n",
            "...                             ...            ...   \n",
            "224507   laura.grassetti@unc.edu.ar            2.0   \n",
            "224511   laura.grassetti@unc.edu.ar            2.0   \n",
            "224512   laura.grassetti@unc.edu.ar            2.0   \n",
            "224514       nrpollini@dracmasa.com            2.0   \n",
            "224516       nrpollini@dracmasa.com            2.0   \n",
            "\n",
            "                                     Descripcion  \n",
            "900     Titulares de Cuentas Bancarias Oficiales  \n",
            "901     Titulares de Cuentas Bancarias Oficiales  \n",
            "927     Titulares de Cuentas Bancarias Oficiales  \n",
            "928     Titulares de Cuentas Bancarias Oficiales  \n",
            "929                      Inversores Corporativos  \n",
            "...                                          ...  \n",
            "224507                   Inversores Corporativos  \n",
            "224511                   Inversores Corporativos  \n",
            "224512                   Inversores Corporativos  \n",
            "224514                   Inversores Corporativos  \n",
            "224516                   Inversores Corporativos  \n",
            "\n",
            "[1404 rows x 43 columns]\n"
          ]
        }
      ]
    },
    {
      "cell_type": "markdown",
      "source": [
        "Como no es un dato que vamos a ser foco lo dejaremos."
      ],
      "metadata": {
        "id": "lPaUmMxccW44"
      }
    },
    {
      "cell_type": "code",
      "source": [
        "#Analizamos el campo observaciones, que es de interes porque es una forma que el sistema mapeo con que CUIT o CUIL se realizó la transacción.\n",
        "# Vemos que el mismo tiene un formato \"Nro|AR1B-AR1A\" donde AR1B signnifica CUIL y esta en general asociado a personas físicas, mientras que AR1A \"27324839386|AR1B\"\n",
        "# Tenemos un campo \"EsPersonaFisica\" que nos indica si las persona es física (-1) o jurídica  (0)\n",
        "# Como los clientes son mayores a 18 años, hasta esa fecha (año 2021) los CUIL se asignaban por afip 20 para masculino y 27 para femenino.\n",
        "#Entonces trataremos de asignar sexo por ahi."
      ],
      "metadata": {
        "id": "VTry-xvRcaTa"
      },
      "execution_count": null,
      "outputs": []
    },
    {
      "cell_type": "code",
      "source": [
        "# Filtrar los registros donde 'EsPersonaFisica' es -1\n",
        "df_filtered = df[df['EsPersonaFisica'] == -1]\n",
        "print(\"Cantidad de registros de personas físicas:\", df_filtered.shape[0])\n",
        "print()\n",
        "# Filtrar los registros donde 'EsPersonaFisica' es -1 y 'Observaciones' no es nulo\n",
        "df_filtered = df[(df['EsPersonaFisica'] == -1) & (df['Observaciones'].notna())]\n",
        "print(\"Cantidad de registros de personas físicas y que en el campo observaciones no sea nulo:\", df_filtered.shape[0])\n",
        "\n",
        "# Crear una nueva columna 'Sexo' e inicializarla con valores NaN\n",
        "df_filtered['Sexo'] = pd.NA\n",
        "\n",
        "# Asignar valores a la columna 'Sexo' basados en el campo 'Observaciones'\n",
        "df_filtered.loc[df_filtered['Observaciones'].str.startswith('20', na=False), 'Sexo'] = 1\n",
        "df_filtered.loc[df_filtered['Observaciones'].str.startswith('27', na=False), 'Sexo'] = 0\n",
        "\n",
        "# Crear una nueva columna 'Sexo' e inicializarla con valores NaN\n",
        "df_filtered['Sexo'] = pd.NA\n",
        "\n",
        "# Asignar valores a la columna 'Sexo' basados en el campo 'Observaciones'\n",
        "df_filtered.loc[df_filtered['Observaciones'].str.startswith('20', na=False), 'Sexo'] = 1\n",
        "df_filtered.loc[df_filtered['Observaciones'].str.startswith('27', na=False), 'Sexo'] = 0\n"
      ],
      "metadata": {
        "id": "EupuRvgiiOek",
        "outputId": "ba5a573a-46a2-4a5c-b60b-90b364facf88",
        "colab": {
          "base_uri": "https://localhost:8080/"
        }
      },
      "execution_count": 25,
      "outputs": [
        {
          "output_type": "stream",
          "name": "stdout",
          "text": [
            "Cantidad de registros de personas físicas: 171938\n",
            "\n",
            "Cantidad de registros de personas físicas y que en el campo observaciones no sea nulo: 171099\n"
          ]
        }
      ]
    },
    {
      "cell_type": "code",
      "source": [
        "\n",
        "\n",
        "# Supongamos que tu DataFrame se llama df\n",
        "\n",
        "# Filtrar los registros donde 'EsPersonaFisica' es -1\n",
        "df_filtered = df[df['EsPersonaFisica'] == -1].copy()\n",
        "print(\"Cantidad de registros de personas físicas:\", df_filtered.shape[0])\n",
        "print()\n",
        "\n",
        "# Filtrar los registros donde 'EsPersonaFisica' es -1 y 'Observaciones' no es nulo\n",
        "df_filtered = df_filtered[df_filtered['Observaciones'].notna()]\n",
        "print(\"Cantidad de registros de personas físicas y que en el campo 'Observaciones' no sea nulo:\", df_filtered.shape[0])\n",
        "print()\n",
        "\n",
        "# Crear una nueva columna 'Sexo' e inicializarla con valores NaN\n",
        "df_filtered['Sexo'] = pd.NA\n",
        "\n",
        "# Asignar valores a la columna 'Sexo' basados en el campo 'Observaciones'\n",
        "df_filtered.loc[df_filtered['Observaciones'].str.startswith('20', na=False), 'Sexo'] = 1\n",
        "df_filtered.loc[df_filtered['Observaciones'].str.startswith('27', na=False), 'Sexo'] = 0\n",
        "\n",
        "# Contar la cantidad de cada valor en la columna 'Sexo'\n",
        "sexo_counts = df_filtered['Sexo'].value_counts(dropna=False)\n",
        "print(\"Cantidad de valores en la columna 'Sexo':\")\n",
        "print(sexo_counts)\n"
      ],
      "metadata": {
        "id": "pcl66dkhhkKB",
        "outputId": "bdb54db3-ac7b-4ef0-c413-b76c22f1c8cc",
        "colab": {
          "base_uri": "https://localhost:8080/"
        }
      },
      "execution_count": 28,
      "outputs": [
        {
          "output_type": "stream",
          "name": "stdout",
          "text": [
            "Cantidad de registros de personas físicas: 171938\n",
            "\n",
            "Cantidad de registros de personas físicas y que en el campo 'Observaciones' no sea nulo: 171099\n",
            "\n",
            "Cantidad de valores en la columna 'Sexo':\n",
            "Sexo\n",
            "1       78163\n",
            "0       75962\n",
            "<NA>    16974\n",
            "Name: count, dtype: int64\n"
          ]
        }
      ]
    },
    {
      "cell_type": "code",
      "source": [
        "df_filtered.info ()"
      ],
      "metadata": {
        "id": "XlNgWZXWh5AU",
        "outputId": "e203655a-2c75-446f-f29b-bdf4250872f7",
        "colab": {
          "base_uri": "https://localhost:8080/"
        }
      },
      "execution_count": 17,
      "outputs": [
        {
          "output_type": "stream",
          "name": "stdout",
          "text": [
            "<class 'pandas.core.frame.DataFrame'>\n",
            "Index: 171938 entries, 0 to 224482\n",
            "Data columns (total 44 columns):\n",
            " #   Column                Non-Null Count   Dtype  \n",
            "---  ------                --------------   -----  \n",
            " 0   CodFondo              171938 non-null  int64  \n",
            " 1   Nombre                171938 non-null  object \n",
            " 2   CodAgColocador        171938 non-null  int64  \n",
            " 3   CodSucursal           171938 non-null  int64  \n",
            " 4   CodSolSusc            171938 non-null  int64  \n",
            " 5   CodTpValorCp          171938 non-null  int64  \n",
            " 6   CodCanalVta           410 non-null     float64\n",
            " 7   CodOficialCta         171938 non-null  int64  \n",
            " 8   CodCondicionIngEgr    171938 non-null  int64  \n",
            " 9   CodMoneda             171938 non-null  int64  \n",
            " 10  CodCuotapartista      171938 non-null  int64  \n",
            " 11  NumSolicitud          171938 non-null  int64  \n",
            " 12  Importe               171938 non-null  float64\n",
            " 13  FechaConcertacion     171938 non-null  object \n",
            " 14  FechaAcreditacion     171938 non-null  object \n",
            " 15  Observaciones         171099 non-null  object \n",
            " 16  FactorConversion      171938 non-null  float64\n",
            " 17  EstaAnulado           171938 non-null  int64  \n",
            " 18  CodAuditoriaRef       171938 non-null  int64  \n",
            " 19  EsAntesDeHorario      171938 non-null  int64  \n",
            " 20  EsArt5Bis             171938 non-null  int64  \n",
            " 21  Hora                  171938 non-null  object \n",
            " 22  CodUsuarioIngreso     171938 non-null  int64  \n",
            " 23  CodTpOrigenSol        171938 non-null  object \n",
            " 24  CodTpEstadoSol        171938 non-null  object \n",
            " 25  ImporteImpTransf      0 non-null       float64\n",
            " 26  Nombre.1              171938 non-null  object \n",
            " 27  NumCuotapartista      171938 non-null  int64  \n",
            " 28  FechaIngreso          159455 non-null  object \n",
            " 29  EsPersonaFisica       171938 non-null  int64  \n",
            " 30  Perfil                0 non-null       float64\n",
            " 31  PerfilRiesgoFechaVto  0 non-null       float64\n",
            " 32  CodTpPerfilRiesgoCpt  170419 non-null  object \n",
            " 33  CodPais               171938 non-null  int64  \n",
            " 34  CodProvincia          159432 non-null  float64\n",
            " 35  Localidad             171938 non-null  object \n",
            " 36  AlturaCalle           171911 non-null  object \n",
            " 37  Piso                  34159 non-null   object \n",
            " 38  Departamento          16897 non-null   object \n",
            " 39  CodigoPostal          171938 non-null  int64  \n",
            " 40  EMail                 171936 non-null  object \n",
            " 41  CodTpInversor         171864 non-null  float64\n",
            " 42  Descripcion           171864 non-null  object \n",
            " 43  Sexo                  154125 non-null  object \n",
            "dtypes: float64(8), int64(19), object(17)\n",
            "memory usage: 59.0+ MB\n"
          ]
        }
      ]
    }
  ]
}