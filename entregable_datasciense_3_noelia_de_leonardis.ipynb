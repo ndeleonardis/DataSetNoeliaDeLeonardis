{
  "nbformat": 4,
  "nbformat_minor": 0,
  "metadata": {
    "colab": {
      "provenance": [],
      "authorship_tag": "ABX9TyMgcv0t4aynUcOCpVa5xwpn",
      "include_colab_link": true
    },
    "kernelspec": {
      "name": "python3",
      "display_name": "Python 3"
    },
    "language_info": {
      "name": "python"
    }
  },
  "cells": [
    {
      "cell_type": "markdown",
      "metadata": {
        "id": "view-in-github",
        "colab_type": "text"
      },
      "source": [
        "<a href=\"https://colab.research.google.com/github/ndeleonardis/DataSetNoeliaDeLeonardis/blob/main/entregable_datasciense_3_noelia_de_leonardis.ipynb\" target=\"_parent\"><img src=\"https://colab.research.google.com/assets/colab-badge.svg\" alt=\"Open In Colab\"/></a>"
      ]
    },
    {
      "cell_type": "code",
      "execution_count": null,
      "metadata": {
        "id": "xTeFDtPcHApj"
      },
      "outputs": [],
      "source": []
    },
    {
      "cell_type": "markdown",
      "source": [
        "# Introducción"
      ],
      "metadata": {
        "id": "VYlaE4t9TwtR"
      }
    },
    {
      "cell_type": "markdown",
      "source": [
        "\n",
        "Para este trabajo se usará un **dataset confidencial** vinculado a **Fondos Comunes de Inversión del banco de Córdoba**, llamados **Fondos Champaquí**.\n",
        "\n",
        "Antes que nada vamos a definir que es un **Fondo Común de Inversión**, fondo común de inversión es un vehículo financiero que agrupa el capital de múltiples inversores para invertir en una cartera diversificada de activos, como acciones, bonos o bienes raíces. La gestión de estas inversiones es realizada por profesionales especializados, y los rendimientos se distribuyen entre los inversores en función de su participación en el fondo.\n",
        "\n",
        "A modo general, se trabajo en la obtención de información, la misma esta parcializada ya que solo se tiene acceso a la base de fondos y no a otras integraciones.\n",
        "\n",
        "Para dar un pantallazo, para que un cliente pueda operar en Fondos Champaquí, debe abrir una cuenta de inversión, la misma queda registrada en otra base de datos a la cual no tenemos acceso, pero los datos del cliente se preplican de forma parcial.\n",
        "\n",
        "\n",
        "Cada cliente para poder operar como indicamos tiene que poseer una cuenta de inversión y realizar el perfil de inversor, que dice que adversión al riesgo puede tener la persona, conservadora, moderada, o agresiva. Basicamente es que nivel de riesgo esta dispuesta a tomar para obtener ganancias.\n",
        "\n",
        "El trabajo va estar dividido en 2 partes primordiales que serán la solicitudes de suscripción y rescate cursadas en el año 2023."
      ],
      "metadata": {
        "id": "ECHqCZdCU_sO"
      }
    },
    {
      "cell_type": "markdown",
      "source": [
        "# Hipótesis que trataremos de responder"
      ],
      "metadata": {
        "id": "vRyNLaD8cVMw"
      }
    },
    {
      "cell_type": "markdown",
      "source": [
        "**Patrones de Suscripción y Rescate según el Perfil de Riesgo**\n",
        "\n",
        "    **Hipótesis:** Los inversores con un perfil de riesgo más alto realizan más solicitudes de suscripción y rescates en comparación con los inversores con perfiles más conservadores.\n",
        "\n",
        "**Los hombres invierten más que las mujeres**\n",
        "\n",
        "    **Hipótesis:** Es verdad que los hombres invierten más que las mujeres?.\n",
        "\n",
        "**En que temporada se concentran más suscripciones y rescates?**\n",
        "\n",
        "    **Hipótesis:** Hay patrones estacionales en las solicitudes de suscripción y rescates, como un aumento durante ciertos meses del año.\n"
      ],
      "metadata": {
        "id": "vNrZJ7BdckNW"
      }
    },
    {
      "cell_type": "code",
      "source": [
        "#Importación de Librerias\n",
        "import pandas as pd\n",
        "import numpy as np"
      ],
      "metadata": {
        "id": "mgd2fXVkeBDh"
      },
      "execution_count": null,
      "outputs": []
    },
    {
      "cell_type": "markdown",
      "source": [
        "### Data Wrangling y Data Wrangling y Exploratory Data Analyst"
      ],
      "metadata": {
        "id": "rEmGGQrk3Q1R"
      }
    },
    {
      "cell_type": "code",
      "source": [
        "\n",
        "# Cargamaos el archivo usamos URL cruda del archivo CSV que esta en nuestro GitHub\n",
        "url = 'https://raw.githubusercontent.com/ndeleonardis/DataSetNoeliaDeLeonardis/main/dataset_suscripciones_2023.csv'\n",
        "\n",
        "\n",
        "# Cargar el archivo CSV en un DataFrame de Pandas\n",
        "try:\n",
        "    df = pd.read_csv(url)\n",
        "    print(\"El archivo CSV se ha cargado exitosamente.\")\n",
        "except Exception as e:\n",
        "    print(\"Se produjo un error al cargar el archivo CSV:\", e)"
      ],
      "metadata": {
        "id": "cl1XymoceE2M",
        "outputId": "3316e859-10bf-4aba-9cb1-62ab16ef9730",
        "colab": {
          "base_uri": "https://localhost:8080/"
        }
      },
      "execution_count": null,
      "outputs": [
        {
          "output_type": "stream",
          "name": "stdout",
          "text": [
            "El archivo CSV se ha cargado exitosamente.\n"
          ]
        }
      ]
    },
    {
      "cell_type": "code",
      "source": [
        "#Exploramos el dataframe con el comando info que nos da información del tipo de datos y nro de entradas y valores nulos.\n",
        "df.info()"
      ],
      "metadata": {
        "id": "p8WeI0czVbWY",
        "outputId": "20e68389-db70-4d1a-a1a3-5e018cf51227",
        "colab": {
          "base_uri": "https://localhost:8080/"
        }
      },
      "execution_count": null,
      "outputs": [
        {
          "output_type": "stream",
          "name": "stdout",
          "text": [
            "<class 'pandas.core.frame.DataFrame'>\n",
            "RangeIndex: 224518 entries, 0 to 224517\n",
            "Data columns (total 43 columns):\n",
            " #   Column                Non-Null Count   Dtype  \n",
            "---  ------                --------------   -----  \n",
            " 0   CodFondo              224518 non-null  int64  \n",
            " 1   Nombre                224518 non-null  object \n",
            " 2   CodAgColocador        224518 non-null  int64  \n",
            " 3   CodSucursal           224518 non-null  int64  \n",
            " 4   CodSolSusc            224518 non-null  int64  \n",
            " 5   CodTpValorCp          224518 non-null  int64  \n",
            " 6   CodCanalVta           1404 non-null    float64\n",
            " 7   CodOficialCta         224518 non-null  int64  \n",
            " 8   CodCondicionIngEgr    224518 non-null  int64  \n",
            " 9   CodMoneda             224518 non-null  int64  \n",
            " 10  CodCuotapartista      224518 non-null  int64  \n",
            " 11  NumSolicitud          224518 non-null  int64  \n",
            " 12  Importe               224518 non-null  float64\n",
            " 13  FechaConcertacion     224518 non-null  object \n",
            " 14  FechaAcreditacion     224518 non-null  object \n",
            " 15  Observaciones         222413 non-null  object \n",
            " 16  FactorConversion      224518 non-null  float64\n",
            " 17  EstaAnulado           224518 non-null  int64  \n",
            " 18  CodAuditoriaRef       224518 non-null  int64  \n",
            " 19  EsAntesDeHorario      224518 non-null  int64  \n",
            " 20  EsArt5Bis             224518 non-null  int64  \n",
            " 21  Hora                  224518 non-null  object \n",
            " 22  CodUsuarioIngreso     224518 non-null  int64  \n",
            " 23  CodTpOrigenSol        224518 non-null  object \n",
            " 24  CodTpEstadoSol        224518 non-null  object \n",
            " 25  ImporteImpTransf      0 non-null       float64\n",
            " 26  Nombre.1              224518 non-null  object \n",
            " 27  NumCuotapartista      224518 non-null  int64  \n",
            " 28  FechaIngreso          212035 non-null  object \n",
            " 29  EsPersonaFisica       224518 non-null  int64  \n",
            " 30  Perfil                0 non-null       float64\n",
            " 31  PerfilRiesgoFechaVto  0 non-null       float64\n",
            " 32  CodTpPerfilRiesgoCpt  222159 non-null  object \n",
            " 33  CodPais               224518 non-null  int64  \n",
            " 34  CodProvincia          212012 non-null  float64\n",
            " 35  Localidad             224518 non-null  object \n",
            " 36  AlturaCalle           224491 non-null  object \n",
            " 37  Piso                  38045 non-null   object \n",
            " 38  Departamento          21335 non-null   object \n",
            " 39  CodigoPostal          224518 non-null  int64  \n",
            " 40  EMail                 224375 non-null  object \n",
            " 41  CodTpInversor         224444 non-null  float64\n",
            " 42  Descripcion           224444 non-null  object \n",
            "dtypes: float64(8), int64(19), object(16)\n",
            "memory usage: 73.7+ MB\n"
          ]
        }
      ]
    },
    {
      "cell_type": "code",
      "source": [
        "# Contamos el número de valores nullosCounts the number of null values\n",
        "na_values = df.isna().sum()\n",
        "\n",
        "# Prints 0, significa que no hay valores nullos.\n",
        "print(na_values)"
      ],
      "metadata": {
        "id": "7MhPwnTD5rNk",
        "outputId": "a87a05d6-089f-48bb-8bc2-86764e3e2a42",
        "colab": {
          "base_uri": "https://localhost:8080/"
        }
      },
      "execution_count": 75,
      "outputs": [
        {
          "output_type": "stream",
          "name": "stdout",
          "text": [
            "CodFondo                     0\n",
            "Nombre                       0\n",
            "CodAgColocador               0\n",
            "CodSucursal                  0\n",
            "CodSolSusc                   0\n",
            "CodTpValorCp                 0\n",
            "CodCanalVta             223114\n",
            "CodOficialCta                0\n",
            "CodCondicionIngEgr           0\n",
            "CodMoneda                    0\n",
            "CodCuotapartista             0\n",
            "NumSolicitud                 0\n",
            "Importe                      0\n",
            "FechaConcertacion            0\n",
            "FechaAcreditacion            0\n",
            "Observaciones             2105\n",
            "FactorConversion             0\n",
            "EstaAnulado                  0\n",
            "CodAuditoriaRef              0\n",
            "EsAntesDeHorario             0\n",
            "EsArt5Bis                    0\n",
            "Hora                         0\n",
            "CodUsuarioIngreso            0\n",
            "CodTpOrigenSol               0\n",
            "CodTpEstadoSol               0\n",
            "ImporteImpTransf        224518\n",
            "Nombre.1                     0\n",
            "NumCuotapartista             0\n",
            "FechaIngreso             12483\n",
            "EsPersonaFisica              0\n",
            "Perfil                  224518\n",
            "PerfilRiesgoFechaVto    224518\n",
            "CodTpPerfilRiesgoCpt      2359\n",
            "CodPais                      0\n",
            "CodProvincia             12506\n",
            "Localidad                    0\n",
            "AlturaCalle                 27\n",
            "Piso                    186473\n",
            "Departamento            203183\n",
            "CodigoPostal                 0\n",
            "EMail                      143\n",
            "CodTpInversor               74\n",
            "Descripcion                 74\n",
            "Sexo                     52580\n",
            "dtype: int64\n"
          ]
        }
      ]
    },
    {
      "cell_type": "markdown",
      "source": [
        "Luego de ejecutar este comando vemos que:\n",
        "**Tenemos un total de 224.518 registros** (RangeIndex: 224518 entries, 0 to 224517)\n",
        "Con la salida de este comando vemos las siguientes observaciones:\n",
        "\n",
        "* **Campos Fechas (FechaConcertacion / FechaAcreditacion / FechaIngreso)** no tienen el formato fecha\n",
        "* **CodCanalVta** solo tiene 1404 valores No nulls\n",
        "* **Observaciones** que nos sera de utilidad tiene  222.413 non-null es decir que nos faltan 2.105 con datos, ya vamos a filtrar por esas columnas a fin de determinar que realizaremos.\n",
        "También vemos que las fechas no estan en formato de fecha.\n",
        "* Datos con valores todos nullos (Perfil/PerfilRiesgoFechaVto  )\n",
        "\n",
        "Hice un análisis de este campo y para no ensuciar la notebook no pongo el print\n",
        "df_filtered = df[df['CodCanalVta'].notna()] basicamente traia valores 1 y 2 que se debe haber comenzado a usar y luego se depreco.\n",
        "\n",
        "Llegue a la conclusión que los campos: \"PerfilRiesgoFechaVto /  CodCanalVta /  ImporteImpTransf\" además de tener muchos nulos o todos nullos no se utilizarán para nuestro análisis. por lo cual en el siguiente paso vamos a eliminarnos del dataframe.\n"
      ],
      "metadata": {
        "id": "XAOyki5C6EIJ"
      }
    },
    {
      "cell_type": "markdown",
      "source": [
        "#### Enriquecimiento de Data Frame con Columna Sexo"
      ],
      "metadata": {
        "id": "D_c-0STg2wNR"
      }
    },
    {
      "cell_type": "markdown",
      "source": [
        "Analizamos el campo observaciones, que es de interes porque es una forma que el sistema mapeo con que CUIT o CUIL se realizó la transacción.\n",
        " Vemos que el mismo tiene un formato \"Nro|AR1B-AR1A\" donde AR1B signnifica CUIL y esta en general asociado a personas físicas, mientras que AR1A \"27324839386|AR1B\"\n",
        " Tenemos un campo \"EsPersonaFisica\" que nos indica si las persona es física (-1) o jurídica  (0)\n",
        " Como los clientes son mayores a 18 años, hasta esa fecha (año 2021) los CUIL se asignaban por afip 20 para masculino y 27 para femenino.\n",
        "Entonces trataremos de asignar sexo por ahi."
      ],
      "metadata": {
        "id": "wagAOEAl23pY"
      }
    },
    {
      "cell_type": "code",
      "source": [],
      "metadata": {
        "id": "VTry-xvRcaTa"
      },
      "execution_count": null,
      "outputs": []
    },
    {
      "cell_type": "code",
      "source": [
        "# 1. Filtrar los registros donde 'EsPersonaFisica' es 1\n",
        "df_personas_fisicas = df[df['EsPersonaFisica'] == -1]\n",
        "print(f\"Cantidad de registros de personas físicas: {df_personas_fisicas.shape[0]}\")\n",
        "print()\n",
        "\n",
        "# 2. Crear una nueva columna 'Sexo' e inicializarla con NaN\n",
        "df['Sexo'] = np.NaN\n",
        "print(\"Se ha creado la columna 'Sexo' y se ha inicializado con valor -100 (no asignado).\")\n",
        "print()\n",
        "\n",
        "# 3. Asignar valores a la columna 'Sexo' basados en el campo 'Observaciones'\n",
        "# Solo modificar la columna 'Sexo' en los registros filtrados\n",
        "df.loc[df['EsPersonaFisica'] == -1, 'Sexo'] = df['Observaciones'].apply(\n",
        "    lambda x: 1 if str(x).startswith('20') else (0 if str(x).startswith('27') else -100)\n",
        ")\n",
        "print(f\"Se han asignado valores a la columna 'Sexo' basada en el campo 'Observaciones'.\")\n",
        "print()\n",
        "\n",
        "# 4. Verificar y contar los valores en la columna 'Sexo'\n",
        "sexo_counts = df['Sexo'].value_counts(dropna=False)\n",
        "print(\"Cantidad de valores en la columna 'Sexo':\")\n",
        "print(sexo_counts)\n",
        "print()\n",
        "\n",
        "# 5. Verificar la actualización del DataFrame\n",
        "print(\"Información del DataFrame después de la actualización:\")\n",
        "print(df.info())\n",
        "print()\n"
      ],
      "metadata": {
        "id": "EupuRvgiiOek",
        "outputId": "9179fd92-3cf1-4b96-a354-c20eb0e72d1c",
        "colab": {
          "base_uri": "https://localhost:8080/"
        }
      },
      "execution_count": null,
      "outputs": [
        {
          "output_type": "stream",
          "name": "stdout",
          "text": [
            "Cantidad de registros de personas físicas: 171938\n",
            "\n",
            "Se ha creado la columna 'Sexo' y se ha inicializado con valor -100 (no asignado).\n",
            "\n",
            "Se han asignado valores a la columna 'Sexo' basada en el campo 'Observaciones'.\n",
            "\n",
            "Cantidad de valores en la columna 'Sexo':\n",
            "Sexo\n",
            " 1.0      78163\n",
            " 0.0      75962\n",
            " NaN      52580\n",
            "-100.0    17813\n",
            "Name: count, dtype: int64\n",
            "\n",
            "Información del DataFrame después de la actualización:\n",
            "<class 'pandas.core.frame.DataFrame'>\n",
            "RangeIndex: 224518 entries, 0 to 224517\n",
            "Data columns (total 44 columns):\n",
            " #   Column                Non-Null Count   Dtype  \n",
            "---  ------                --------------   -----  \n",
            " 0   CodFondo              224518 non-null  int64  \n",
            " 1   Nombre                224518 non-null  object \n",
            " 2   CodAgColocador        224518 non-null  int64  \n",
            " 3   CodSucursal           224518 non-null  int64  \n",
            " 4   CodSolSusc            224518 non-null  int64  \n",
            " 5   CodTpValorCp          224518 non-null  int64  \n",
            " 6   CodCanalVta           1404 non-null    float64\n",
            " 7   CodOficialCta         224518 non-null  int64  \n",
            " 8   CodCondicionIngEgr    224518 non-null  int64  \n",
            " 9   CodMoneda             224518 non-null  int64  \n",
            " 10  CodCuotapartista      224518 non-null  int64  \n",
            " 11  NumSolicitud          224518 non-null  int64  \n",
            " 12  Importe               224518 non-null  float64\n",
            " 13  FechaConcertacion     224518 non-null  object \n",
            " 14  FechaAcreditacion     224518 non-null  object \n",
            " 15  Observaciones         222413 non-null  object \n",
            " 16  FactorConversion      224518 non-null  float64\n",
            " 17  EstaAnulado           224518 non-null  int64  \n",
            " 18  CodAuditoriaRef       224518 non-null  int64  \n",
            " 19  EsAntesDeHorario      224518 non-null  int64  \n",
            " 20  EsArt5Bis             224518 non-null  int64  \n",
            " 21  Hora                  224518 non-null  object \n",
            " 22  CodUsuarioIngreso     224518 non-null  int64  \n",
            " 23  CodTpOrigenSol        224518 non-null  object \n",
            " 24  CodTpEstadoSol        224518 non-null  object \n",
            " 25  ImporteImpTransf      0 non-null       float64\n",
            " 26  Nombre.1              224518 non-null  object \n",
            " 27  NumCuotapartista      224518 non-null  int64  \n",
            " 28  FechaIngreso          212035 non-null  object \n",
            " 29  EsPersonaFisica       224518 non-null  int64  \n",
            " 30  Perfil                0 non-null       float64\n",
            " 31  PerfilRiesgoFechaVto  0 non-null       float64\n",
            " 32  CodTpPerfilRiesgoCpt  222159 non-null  object \n",
            " 33  CodPais               224518 non-null  int64  \n",
            " 34  CodProvincia          212012 non-null  float64\n",
            " 35  Localidad             224518 non-null  object \n",
            " 36  AlturaCalle           224491 non-null  object \n",
            " 37  Piso                  38045 non-null   object \n",
            " 38  Departamento          21335 non-null   object \n",
            " 39  CodigoPostal          224518 non-null  int64  \n",
            " 40  EMail                 224375 non-null  object \n",
            " 41  CodTpInversor         224444 non-null  float64\n",
            " 42  Descripcion           224444 non-null  object \n",
            " 43  Sexo                  171938 non-null  float64\n",
            "dtypes: float64(9), int64(19), object(16)\n",
            "memory usage: 75.4+ MB\n",
            "None\n",
            "\n"
          ]
        }
      ]
    },
    {
      "cell_type": "code",
      "source": [
        "df.info ()"
      ],
      "metadata": {
        "id": "iGfJ3FCjy77M"
      },
      "execution_count": null,
      "outputs": []
    },
    {
      "cell_type": "code",
      "source": [],
      "metadata": {
        "id": "e3lyaeDJ4EE-"
      },
      "execution_count": null,
      "outputs": []
    }
  ]
}